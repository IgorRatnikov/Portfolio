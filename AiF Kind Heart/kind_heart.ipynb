{
 "cells": [
  {
   "cell_type": "markdown",
   "id": "6f11891f",
   "metadata": {},
   "source": [
    "# [АиФ Доброе сердце](https://dobroe.aif.ru/)\n",
    "\n",
    " - [Ссылка на дашборд](https://datalens.yandex/4f3n1abvoiaqr)\n",
    "\n",
    "**О проекте**: Благотворительный фонд АиФ Доброе сердце на данном этапе хочет автоматизировать свою аналитическую работу и задача аналитиков помочь ему в этом. Проект по работе с данными благотворительного фонда “Доброе сердце”. В датасетах представлены данные по действиям благотворителей за период с марта 2022 года по ноябрь 2023 года, а также данные о пожертвованиях благотворителей с 2021 года по ноябрь 2023 года. Данные хорошего качества, предобработка не требуется, при анализе, для которого используются оба датасета (действия, платежи) необходимо корректировать даты датасета с платежами. Также данные достаточно объемные, поэтому придется затронуть некоторые аспекты загрузки данных подобного размера (работа с ограниченным количеством строк при первичном анализе датасета, выбор столбцов для работы и загрузка датасета только с необходимыми столбцами).\n",
    "\n",
    "**Цель проекта:** Фонд хочет лучше узнать своих благотворителей для более эффективной работы с ними. Для этого основной задачей будет проведения RFM-анализа, когортного анализа (retention, LTV, средний чек), а также расчет основных маркетинговых и продуктовых метрик. Также для достижения целей, поставленных фондом мы проанализируем эффективность каналов привлечения пользователей. По итогу должен получится рабочий скрипт для загрузки и подготовки данных для дальнейшей работы с ними + витрина данных, построенная по результатам работы скрипта. Таким образом будет пройден весь процесс ETL (extract - transform - load) и построена аналитическую панель.\n",
    "\n",
    "## Техническое задание\n",
    "\n",
    "\n",
    "### Шаг 1. Создание скрипта-загрузчика (облачное хранилище - база данных)\n",
    "\n",
    " - Подключение к яндекс диску (библиотека yadisk)\n",
    " - Собрать список файлов из папки АиФ Доброе сердце\n",
    " - Определить какие файлы уже были залиты в базу данных, а какие нет\n",
    " - Скачать новые файлы (при наличии)\n",
    " - Обработать новые файлы (пользовательские данные слить в один датасет, если файлов несколько)\n",
    " - Загрузить обработанные датасеты в буферные таблицы базы данных\n",
    " - Проверить загруженные данные\n",
    " - Загрузить данные в рабочие таблицы базы данных\n",
    "\n",
    "### Шаг 2. Создание витрины данных\n",
    "\n",
    " - Подключиться к базе данных\n",
    " - Создать витрину данных (DataLens) на основании информации из БД\n",
    " - Витрина данных должна содержать следующую информацию (выполняется через SQL-запросы):\n",
    "   - RFM-анализ\n",
    "   - Когортный анализ: Retention Rate, LTV, AC\n",
    "   - DAU, WAU, MAU, sticky factor.\n",
    "   - Основные маркетинговые метрики\n",
    " \n",
    "## Описание столбцов\n",
    "\n",
    "Описание столбцов в датасете `public.payments` (данные о платежах пользователей (1 файл)):\n",
    "\n",
    "- `OrderFirstActionDateTimeUtc` - Дата и время первого действия.\n",
    "- `OrderTotalPrice` - Полная стоимость заказа (используется для расчётов).\n",
    "- `OrderLineStatusIdsExternalId` - Статус линии (для анализа платежей используем значения: \"paid\", \"notpaid\", \"fail\" для анализа отказов и ошибок).\n",
    "- `OrderCustomerIdsMindboxId` - Уникальный идентификатор пользователя (для слияния данных).\n",
    "- `OrderFirstActionChannelName` - Название канала.\n",
    "\n",
    "Описание столбцов в датасете `public.users_original` (данные о действиях пользователей (4 файла)):\n",
    "\n",
    "- `CustomerActionDateTimeUtc` - Время и дата действия пользователя.\n",
    "- `CustomerActionChannelName` - Название канала привлечения.\n",
    "- `CustomerActionCustomerIdsMindboxId` - Уникальный идентификатор пользователя (для слияния датасетов).\n",
    "\n",
    "Описание столбцов в датасете `public.users` (данные о действиях пользователей (4 файла)):\n",
    "\n",
    "- `action_datetime` - Время и дата действия пользователя.\n",
    "- `channel_name` - Название канала привлечения.\n",
    "- `user_id` - Уникальный идентификатор пользователя (для слияния датасетов)."
   ]
  },
  {
   "cell_type": "markdown",
   "id": "01fecbad",
   "metadata": {},
   "source": [
    "### Загрузка и предобработка данных"
   ]
  },
  {
   "cell_type": "markdown",
   "id": "96c0e216",
   "metadata": {},
   "source": [
    "#### Импортируем библиотеки и модули"
   ]
  },
  {
   "cell_type": "code",
   "execution_count": 1,
   "id": "dd76b9c9",
   "metadata": {},
   "outputs": [],
   "source": [
    "import pandas as pd\n",
    "import numpy as np\n",
    "from scipy import stats\n",
    "from scipy.stats import chi2_contingency\n",
    "import datetime as dt\n",
    "import yadisk  # Импортируем библиотеку для работы с API Яндекс.Диска\n",
    "import sqlite3 as sl  # Импортируем модуль для работы с базой данных SQLite\n",
    "import os  # Импортируем модуль для работы с файловой системой (создание директорий, работа с путями)\n",
    "import sys  # Импортируем модуль sys для работы с системными параметрами и аргументами\n",
    "import pickle  # Импортируем модуль для сериализации данных (сохранение и загрузка объектов в файлы)\n",
    "from tqdm import tqdm  # Импортируем функцию tqdm для отображения прогресс-бара при выполнении циклов"
   ]
  },
  {
   "cell_type": "markdown",
   "id": "0c9a29fe",
   "metadata": {},
   "source": [
    "#### Пишем скрипт-загрузчик"
   ]
  },
  {
   "cell_type": "code",
   "execution_count": 2,
   "id": "022d6e6b",
   "metadata": {},
   "outputs": [
    {
     "name": "stdout",
     "output_type": "stream",
     "text": [
      "Токен правильный\n",
      "Создание списка файлов\n"
     ]
    },
    {
     "name": "stderr",
     "output_type": "stream",
     "text": [
      "100%|██████████████████████████████████████████████████████████████████████████████████| 5/5 [00:00<00:00, 5006.33it/s]"
     ]
    },
    {
     "name": "stdout",
     "output_type": "stream",
     "text": [
      "Новых или обновленных файлов нет.\n"
     ]
    },
    {
     "name": "stderr",
     "output_type": "stream",
     "text": [
      "\n"
     ]
    }
   ],
   "source": [
    "app_id = ''  # ID приложения для доступа к Яндекс.Диску\n",
    "secret_id = ''  # Секретный ключ приложения\n",
    "ya_token = ''  # Токен для авторизации\n",
    "\n",
    "y = yadisk.YaDisk(app_id, secret_id, ya_token)  # Создаем объект для взаимодействия с API Яндекс.Диска\n",
    "\n",
    "# Проверяем токен\n",
    "if y.check_token():  # Проверяем, действителен ли токен\n",
    "    print('Токен правильный')  # Сообщение о корректности токена\n",
    "\n",
    "# Путь к папке с локальными файлами\n",
    "load_path = 'F:/Датасеты/АиФ/'  # Указываем путь к локальной папке, куда будут скачиваться файлы\n",
    "if not os.path.exists(load_path):  # Проверяем, существует ли папка\n",
    "    os.mkdir(load_path)  # Если папка не существует, создаем её\n",
    "\n",
    "# Файл для хранения информации о скачанных файлах\n",
    "metadata_file = os.path.join(load_path, 'metadata.pkl')  # Путь к файлу с метаданными (информация о скачанных файлах)\n",
    "\n",
    "# Загружаем метаданные о скачанных файлах, если они существуют\n",
    "if os.path.exists(metadata_file):  # Проверяем, существует ли файл с метаданными\n",
    "    with open(metadata_file, 'rb') as f:  # Открываем файл для чтения\n",
    "        downloaded_files = pickle.load(f)  # Загружаем данные о скачанных файлах\n",
    "else:\n",
    "    downloaded_files = {}  # Если файл не существует, создаем пустой словарь\n",
    "\n",
    "# Создаем список файлов на Яндекс Диске\n",
    "print('Создание списка файлов')  # Сообщение о начале создания списка файлов\n",
    "list_of_files = []  # Пустой список для хранения файлов\n",
    "\n",
    "for el in tqdm(list(y.listdir('АиФ'))):  # Проходимся по всем файлам в папке \"АиФ\" на Яндекс.Диске\n",
    "    if el['path'].endswith('.csv'):  # Если файл имеет расширение .csv\n",
    "        file_path = el['path']  # Сохраняем путь к файлу\n",
    "        file_modified = el['modified']  # Получаем дату последнего изменения файла\n",
    "        list_of_files.append((file_path, file_modified))  # Добавляем путь и дату изменения в список файлов\n",
    "\n",
    "# Проверяем файлы на наличие новых или изменённых\n",
    "new_files = []  # Список для хранения новых или изменённых файлов\n",
    "for file_path, file_modified in list_of_files:  # Проходимся по каждому файлу в списке\n",
    "    # Если файла нет в списке скачанных или он был изменён, добавляем его в список для загрузки\n",
    "    if (file_path not in downloaded_files) or (downloaded_files[file_path] != file_modified):  \n",
    "        new_files.append(file_path)  # Добавляем файл в список для загрузки\n",
    "\n",
    "if new_files:  # Если есть новые или обновлённые файлы\n",
    "    print('Загрузка новых или обновленных файлов...')  # Сообщаем о начале загрузки\n",
    "    for file in tqdm(new_files):  # Проходимся по каждому новому или изменённому файлу\n",
    "        local_file_name = os.path.join(load_path, file.split('/')[-1])  # Формируем имя файла для сохранения\n",
    "        y.download(file.split(':')[1], local_file_name)  # Скачиваем файл с Яндекс.Диска на локальный компьютер\n",
    "\n",
    "        # Обновляем метаданные после успешного скачивания\n",
    "        for el in list(y.listdir('АиФ')):  # Ищем файл на Яндекс.Диске\n",
    "            if el['path'] == file:  # Если путь совпадает\n",
    "                downloaded_files[file] = el['modified']  # Обновляем дату последнего изменения файла в метаданных\n",
    "\n",
    "    # Сохраняем обновлённые метаданные\n",
    "    with open(metadata_file, 'wb') as f:  # Открываем файл с метаданными для записи\n",
    "        pickle.dump(downloaded_files, f)  # Сохраняем обновлённые данные о скачанных файлах\n",
    "else:\n",
    "    print('Новых или обновленных файлов нет.')  # Сообщаем, что новых или изменённых файлов нет"
   ]
  },
  {
   "cell_type": "markdown",
   "id": "6c9c0426",
   "metadata": {},
   "source": [
    "Написан скрипт-загрузчик. Он проверяет, скачаны ли уже файлы. Если скачаны, то он их скачивает повторно только если они были изменены."
   ]
  },
  {
   "cell_type": "markdown",
   "id": "883cc88a",
   "metadata": {},
   "source": [
    "#### Обрабатываем новые файлы (пользовательские данные слить в один датасет, если файлов несколько)"
   ]
  },
  {
   "cell_type": "code",
   "execution_count": 3,
   "id": "93e72fb7",
   "metadata": {},
   "outputs": [
    {
     "data": {
      "text/html": [
       "<div>\n",
       "<style scoped>\n",
       "    .dataframe tbody tr th:only-of-type {\n",
       "        vertical-align: middle;\n",
       "    }\n",
       "\n",
       "    .dataframe tbody tr th {\n",
       "        vertical-align: top;\n",
       "    }\n",
       "\n",
       "    .dataframe thead th {\n",
       "        text-align: right;\n",
       "    }\n",
       "</style>\n",
       "<table border=\"1\" class=\"dataframe\">\n",
       "  <thead>\n",
       "    <tr style=\"text-align: right;\">\n",
       "      <th></th>\n",
       "      <th>OrderFirstActionDateTimeUtc</th>\n",
       "      <th>OrderFirstActionChannelName</th>\n",
       "      <th>OrderTotalPrice</th>\n",
       "      <th>OrderLineStatusIdsExternalId</th>\n",
       "      <th>OrderCustomerIdsMindboxId</th>\n",
       "    </tr>\n",
       "  </thead>\n",
       "  <tbody>\n",
       "    <tr>\n",
       "      <th>0</th>\n",
       "      <td>27.01.2022 0:00</td>\n",
       "      <td>Административный сайт Mindbox</td>\n",
       "      <td>500</td>\n",
       "      <td>Paid</td>\n",
       "      <td>6959</td>\n",
       "    </tr>\n",
       "    <tr>\n",
       "      <th>1</th>\n",
       "      <td>29.01.2022 0:00</td>\n",
       "      <td>Административный сайт Mindbox</td>\n",
       "      <td>200</td>\n",
       "      <td>Paid</td>\n",
       "      <td>7103</td>\n",
       "    </tr>\n",
       "    <tr>\n",
       "      <th>2</th>\n",
       "      <td>31.01.2022 0:00</td>\n",
       "      <td>Административный сайт Mindbox</td>\n",
       "      <td>300</td>\n",
       "      <td>Paid</td>\n",
       "      <td>7321</td>\n",
       "    </tr>\n",
       "    <tr>\n",
       "      <th>3</th>\n",
       "      <td>06.02.2022 0:00</td>\n",
       "      <td>Административный сайт Mindbox</td>\n",
       "      <td>300</td>\n",
       "      <td>Paid</td>\n",
       "      <td>7143</td>\n",
       "    </tr>\n",
       "    <tr>\n",
       "      <th>4</th>\n",
       "      <td>28.02.2022 0:00</td>\n",
       "      <td>Административный сайт Mindbox</td>\n",
       "      <td>50</td>\n",
       "      <td>Paid</td>\n",
       "      <td>7079</td>\n",
       "    </tr>\n",
       "  </tbody>\n",
       "</table>\n",
       "</div>"
      ],
      "text/plain": [
       "  OrderFirstActionDateTimeUtc    OrderFirstActionChannelName  OrderTotalPrice  \\\n",
       "0             27.01.2022 0:00  Административный сайт Mindbox              500   \n",
       "1             29.01.2022 0:00  Административный сайт Mindbox              200   \n",
       "2             31.01.2022 0:00  Административный сайт Mindbox              300   \n",
       "3             06.02.2022 0:00  Административный сайт Mindbox              300   \n",
       "4             28.02.2022 0:00  Административный сайт Mindbox               50   \n",
       "\n",
       "  OrderLineStatusIdsExternalId  OrderCustomerIdsMindboxId  \n",
       "0                         Paid                       6959  \n",
       "1                         Paid                       7103  \n",
       "2                         Paid                       7321  \n",
       "3                         Paid                       7143  \n",
       "4                         Paid                       7079  "
      ]
     },
     "execution_count": 3,
     "metadata": {},
     "output_type": "execute_result"
    }
   ],
   "source": [
    "columns_to_load = ['OrderFirstActionDateTimeUtc', 'OrderTotalPrice', 'OrderFirstActionChannelName',\n",
    "                   'OrderLineStatusIdsExternalId', 'OrderCustomerIdsMindboxId']\n",
    "\n",
    "payments = pd.read_csv('F:\\Датасеты\\АиФ\\Заказы.csv', sep=';', usecols=columns_to_load)\n",
    "\n",
    "payments.head()"
   ]
  },
  {
   "cell_type": "markdown",
   "id": "ccd257c7",
   "metadata": {},
   "source": [
    "Создан датафрейм `payments` c донатами пользователей."
   ]
  },
  {
   "cell_type": "code",
   "execution_count": 4,
   "id": "aff636a6",
   "metadata": {},
   "outputs": [
    {
     "data": {
      "text/html": [
       "<div>\n",
       "<style scoped>\n",
       "    .dataframe tbody tr th:only-of-type {\n",
       "        vertical-align: middle;\n",
       "    }\n",
       "\n",
       "    .dataframe tbody tr th {\n",
       "        vertical-align: top;\n",
       "    }\n",
       "\n",
       "    .dataframe thead th {\n",
       "        text-align: right;\n",
       "    }\n",
       "</style>\n",
       "<table border=\"1\" class=\"dataframe\">\n",
       "  <thead>\n",
       "    <tr style=\"text-align: right;\">\n",
       "      <th></th>\n",
       "      <th>CustomerActionDateTimeUtc</th>\n",
       "      <th>CustomerActionChannelName</th>\n",
       "      <th>CustomerActionCustomerIdsMindboxId</th>\n",
       "    </tr>\n",
       "  </thead>\n",
       "  <tbody>\n",
       "    <tr>\n",
       "      <th>0</th>\n",
       "      <td>19.03.2022 21:30</td>\n",
       "      <td>Сайт</td>\n",
       "      <td>2734</td>\n",
       "    </tr>\n",
       "    <tr>\n",
       "      <th>1</th>\n",
       "      <td>14.10.2021 15:50</td>\n",
       "      <td>Административный сайт Mindbox</td>\n",
       "      <td>2734</td>\n",
       "    </tr>\n",
       "    <tr>\n",
       "      <th>2</th>\n",
       "      <td>18.03.2021 10:52</td>\n",
       "      <td>Административный сайт Mindbox</td>\n",
       "      <td>2734</td>\n",
       "    </tr>\n",
       "    <tr>\n",
       "      <th>3</th>\n",
       "      <td>23.11.2022 8:40</td>\n",
       "      <td>Сайт</td>\n",
       "      <td>2734</td>\n",
       "    </tr>\n",
       "    <tr>\n",
       "      <th>4</th>\n",
       "      <td>23.11.2022 8:40</td>\n",
       "      <td>utm_term Не указан</td>\n",
       "      <td>2734</td>\n",
       "    </tr>\n",
       "  </tbody>\n",
       "</table>\n",
       "</div>"
      ],
      "text/plain": [
       "  CustomerActionDateTimeUtc      CustomerActionChannelName  \\\n",
       "0          19.03.2022 21:30                           Сайт   \n",
       "1          14.10.2021 15:50  Административный сайт Mindbox   \n",
       "2          18.03.2021 10:52  Административный сайт Mindbox   \n",
       "3           23.11.2022 8:40                           Сайт   \n",
       "4           23.11.2022 8:40             utm_term Не указан   \n",
       "\n",
       "   CustomerActionCustomerIdsMindboxId  \n",
       "0                                2734  \n",
       "1                                2734  \n",
       "2                                2734  \n",
       "3                                2734  \n",
       "4                                2734  "
      ]
     },
     "execution_count": 4,
     "metadata": {},
     "output_type": "execute_result"
    }
   ],
   "source": [
    "# Путь к папке с файлами\n",
    "data_path = 'F:\\\\Датасеты\\\\АиФ\\\\'\n",
    "columns_to_load = ['CustomerActionDateTimeUtc', 'CustomerActionChannelName', 'CustomerActionCustomerIdsMindboxId']\n",
    "\n",
    "# Список файлов\n",
    "files = [\n",
    "    os.path.join(data_path, f'{i} of 4 - Dobroaif - 04.09.2024 - 41884 - 9b4daafd-72bb-4951-b6fd-0d09eaf37387.csv')\n",
    "    for i in range(1, 5)\n",
    "]\n",
    "\n",
    "# Чтение и объединение файлов\n",
    "users = pd.concat([pd.read_csv(file, sep=';', usecols=columns_to_load) for file in files], ignore_index=True)\n",
    "\n",
    "users.head()"
   ]
  },
  {
   "cell_type": "markdown",
   "id": "cb1f2e6c",
   "metadata": {},
   "source": [
    "Создан датафрейм `users` объединённый из 4-х датасетов, c действиями пользователей."
   ]
  },
  {
   "cell_type": "code",
   "execution_count": 5,
   "id": "c80229f1",
   "metadata": {},
   "outputs": [
    {
     "name": "stdout",
     "output_type": "stream",
     "text": [
      "<class 'pandas.core.frame.DataFrame'>\n",
      "RangeIndex: 96565 entries, 0 to 96564\n",
      "Data columns (total 5 columns):\n",
      " #   Column                        Non-Null Count  Dtype \n",
      "---  ------                        --------------  ----- \n",
      " 0   OrderFirstActionDateTimeUtc   96565 non-null  object\n",
      " 1   OrderFirstActionChannelName   96565 non-null  object\n",
      " 2   OrderTotalPrice               96565 non-null  int64 \n",
      " 3   OrderLineStatusIdsExternalId  96565 non-null  object\n",
      " 4   OrderCustomerIdsMindboxId     96565 non-null  int64 \n",
      "dtypes: int64(2), object(3)\n",
      "memory usage: 3.7+ MB\n"
     ]
    }
   ],
   "source": [
    "payments.info()"
   ]
  },
  {
   "cell_type": "code",
   "execution_count": 6,
   "id": "b6d54d2e",
   "metadata": {},
   "outputs": [
    {
     "name": "stdout",
     "output_type": "stream",
     "text": [
      "<class 'pandas.core.frame.DataFrame'>\n",
      "RangeIndex: 3834751 entries, 0 to 3834750\n",
      "Data columns (total 3 columns):\n",
      " #   Column                              Dtype \n",
      "---  ------                              ----- \n",
      " 0   CustomerActionDateTimeUtc           object\n",
      " 1   CustomerActionChannelName           object\n",
      " 2   CustomerActionCustomerIdsMindboxId  int64 \n",
      "dtypes: int64(1), object(2)\n",
      "memory usage: 87.8+ MB\n"
     ]
    }
   ],
   "source": [
    "users.info()"
   ]
  },
  {
   "cell_type": "markdown",
   "id": "55c1567d",
   "metadata": {},
   "source": [
    "#### Меням тип данных"
   ]
  },
  {
   "cell_type": "code",
   "execution_count": 7,
   "id": "fd28145d",
   "metadata": {},
   "outputs": [],
   "source": [
    "# Указываем параметр dayfirst=True, чтобы интерпретировать даты в формате день/месяц/год\n",
    "users['CustomerActionDateTimeUtc'] = pd.to_datetime(users['CustomerActionDateTimeUtc'], dayfirst=True)\n",
    "payments['OrderFirstActionDateTimeUtc'] = pd.to_datetime(payments['OrderFirstActionDateTimeUtc'], dayfirst=True)"
   ]
  },
  {
   "cell_type": "markdown",
   "id": "18b0e508",
   "metadata": {},
   "source": [
    "Изменены типы данных в колонках `CustomerActionDateTimeUtc` из датафрейма `users` и `OrderFirstActionDateTimeUtc` из датафрейма `payments` на datetime."
   ]
  },
  {
   "cell_type": "markdown",
   "id": "639c3868",
   "metadata": {},
   "source": [
    "#### Загружаем обработанные датасеты в буферные таблицы базы данных"
   ]
  },
  {
   "cell_type": "code",
   "execution_count": 8,
   "id": "2d1bc1fb",
   "metadata": {},
   "outputs": [],
   "source": [
    "engine = sl.connect('aif_etl.db') # Создаем движок подключения к базе данных при помощи sqlite"
   ]
  },
  {
   "cell_type": "markdown",
   "id": "64db7227",
   "metadata": {},
   "source": [
    "#### Заливаем датасет в базу данных, где `users` - название таблицы в базе данных, `con (connector)` это наше соединение с базой данных `engine` и `if_exists` - определяет, что делать с данными, если они уже есть в базе данных, я выставил заменить."
   ]
  },
  {
   "cell_type": "code",
   "execution_count": 9,
   "id": "c8e15646",
   "metadata": {},
   "outputs": [
    {
     "data": {
      "text/plain": [
       "96565"
      ]
     },
     "execution_count": 9,
     "metadata": {},
     "output_type": "execute_result"
    }
   ],
   "source": [
    "users.to_sql('users', con=engine, if_exists='replace')\n",
    "payments.to_sql('payments', con=engine, if_exists='replace')"
   ]
  },
  {
   "cell_type": "markdown",
   "id": "f9c707a9",
   "metadata": {},
   "source": [
    "#### Проверяем корректность создания базы данных через pandas read sql. Указываем SQL запрос, который мы хотим выполнить и собственно также указываем наш коннектор к базе данных."
   ]
  },
  {
   "cell_type": "code",
   "execution_count": 10,
   "id": "dee355c4",
   "metadata": {},
   "outputs": [],
   "source": [
    "users = pd.read_sql('select * from users', con=engine)"
   ]
  },
  {
   "cell_type": "code",
   "execution_count": 11,
   "id": "f71e474e",
   "metadata": {},
   "outputs": [],
   "source": [
    "payments = pd.read_sql('select * from payments', con=engine)"
   ]
  },
  {
   "cell_type": "markdown",
   "id": "a8fa74ce",
   "metadata": {},
   "source": [
    "#### Проверяем данные"
   ]
  },
  {
   "cell_type": "code",
   "execution_count": 12,
   "id": "e82448a3",
   "metadata": {},
   "outputs": [
    {
     "data": {
      "text/html": [
       "<div>\n",
       "<style scoped>\n",
       "    .dataframe tbody tr th:only-of-type {\n",
       "        vertical-align: middle;\n",
       "    }\n",
       "\n",
       "    .dataframe tbody tr th {\n",
       "        vertical-align: top;\n",
       "    }\n",
       "\n",
       "    .dataframe thead th {\n",
       "        text-align: right;\n",
       "    }\n",
       "</style>\n",
       "<table border=\"1\" class=\"dataframe\">\n",
       "  <thead>\n",
       "    <tr style=\"text-align: right;\">\n",
       "      <th></th>\n",
       "      <th>index</th>\n",
       "      <th>CustomerActionDateTimeUtc</th>\n",
       "      <th>CustomerActionChannelName</th>\n",
       "      <th>CustomerActionCustomerIdsMindboxId</th>\n",
       "    </tr>\n",
       "  </thead>\n",
       "  <tbody>\n",
       "    <tr>\n",
       "      <th>0</th>\n",
       "      <td>0</td>\n",
       "      <td>2022-03-19 21:30:00</td>\n",
       "      <td>Сайт</td>\n",
       "      <td>2734</td>\n",
       "    </tr>\n",
       "    <tr>\n",
       "      <th>1</th>\n",
       "      <td>1</td>\n",
       "      <td>2021-10-14 15:50:00</td>\n",
       "      <td>Административный сайт Mindbox</td>\n",
       "      <td>2734</td>\n",
       "    </tr>\n",
       "    <tr>\n",
       "      <th>2</th>\n",
       "      <td>2</td>\n",
       "      <td>2021-03-18 10:52:00</td>\n",
       "      <td>Административный сайт Mindbox</td>\n",
       "      <td>2734</td>\n",
       "    </tr>\n",
       "    <tr>\n",
       "      <th>3</th>\n",
       "      <td>3</td>\n",
       "      <td>2022-11-23 08:40:00</td>\n",
       "      <td>Сайт</td>\n",
       "      <td>2734</td>\n",
       "    </tr>\n",
       "    <tr>\n",
       "      <th>4</th>\n",
       "      <td>4</td>\n",
       "      <td>2022-11-23 08:40:00</td>\n",
       "      <td>utm_term Не указан</td>\n",
       "      <td>2734</td>\n",
       "    </tr>\n",
       "  </tbody>\n",
       "</table>\n",
       "</div>"
      ],
      "text/plain": [
       "   index CustomerActionDateTimeUtc      CustomerActionChannelName  \\\n",
       "0      0       2022-03-19 21:30:00                           Сайт   \n",
       "1      1       2021-10-14 15:50:00  Административный сайт Mindbox   \n",
       "2      2       2021-03-18 10:52:00  Административный сайт Mindbox   \n",
       "3      3       2022-11-23 08:40:00                           Сайт   \n",
       "4      4       2022-11-23 08:40:00             utm_term Не указан   \n",
       "\n",
       "   CustomerActionCustomerIdsMindboxId  \n",
       "0                                2734  \n",
       "1                                2734  \n",
       "2                                2734  \n",
       "3                                2734  \n",
       "4                                2734  "
      ]
     },
     "execution_count": 12,
     "metadata": {},
     "output_type": "execute_result"
    }
   ],
   "source": [
    "users.head()"
   ]
  },
  {
   "cell_type": "code",
   "execution_count": 13,
   "id": "11650105",
   "metadata": {},
   "outputs": [
    {
     "data": {
      "text/html": [
       "<div>\n",
       "<style scoped>\n",
       "    .dataframe tbody tr th:only-of-type {\n",
       "        vertical-align: middle;\n",
       "    }\n",
       "\n",
       "    .dataframe tbody tr th {\n",
       "        vertical-align: top;\n",
       "    }\n",
       "\n",
       "    .dataframe thead th {\n",
       "        text-align: right;\n",
       "    }\n",
       "</style>\n",
       "<table border=\"1\" class=\"dataframe\">\n",
       "  <thead>\n",
       "    <tr style=\"text-align: right;\">\n",
       "      <th></th>\n",
       "      <th>index</th>\n",
       "      <th>OrderFirstActionDateTimeUtc</th>\n",
       "      <th>OrderFirstActionChannelName</th>\n",
       "      <th>OrderTotalPrice</th>\n",
       "      <th>OrderLineStatusIdsExternalId</th>\n",
       "      <th>OrderCustomerIdsMindboxId</th>\n",
       "    </tr>\n",
       "  </thead>\n",
       "  <tbody>\n",
       "    <tr>\n",
       "      <th>0</th>\n",
       "      <td>0</td>\n",
       "      <td>2022-01-27 00:00:00</td>\n",
       "      <td>Административный сайт Mindbox</td>\n",
       "      <td>500</td>\n",
       "      <td>Paid</td>\n",
       "      <td>6959</td>\n",
       "    </tr>\n",
       "    <tr>\n",
       "      <th>1</th>\n",
       "      <td>1</td>\n",
       "      <td>2022-01-29 00:00:00</td>\n",
       "      <td>Административный сайт Mindbox</td>\n",
       "      <td>200</td>\n",
       "      <td>Paid</td>\n",
       "      <td>7103</td>\n",
       "    </tr>\n",
       "    <tr>\n",
       "      <th>2</th>\n",
       "      <td>2</td>\n",
       "      <td>2022-01-31 00:00:00</td>\n",
       "      <td>Административный сайт Mindbox</td>\n",
       "      <td>300</td>\n",
       "      <td>Paid</td>\n",
       "      <td>7321</td>\n",
       "    </tr>\n",
       "    <tr>\n",
       "      <th>3</th>\n",
       "      <td>3</td>\n",
       "      <td>2022-02-06 00:00:00</td>\n",
       "      <td>Административный сайт Mindbox</td>\n",
       "      <td>300</td>\n",
       "      <td>Paid</td>\n",
       "      <td>7143</td>\n",
       "    </tr>\n",
       "    <tr>\n",
       "      <th>4</th>\n",
       "      <td>4</td>\n",
       "      <td>2022-02-28 00:00:00</td>\n",
       "      <td>Административный сайт Mindbox</td>\n",
       "      <td>50</td>\n",
       "      <td>Paid</td>\n",
       "      <td>7079</td>\n",
       "    </tr>\n",
       "  </tbody>\n",
       "</table>\n",
       "</div>"
      ],
      "text/plain": [
       "   index OrderFirstActionDateTimeUtc    OrderFirstActionChannelName  \\\n",
       "0      0         2022-01-27 00:00:00  Административный сайт Mindbox   \n",
       "1      1         2022-01-29 00:00:00  Административный сайт Mindbox   \n",
       "2      2         2022-01-31 00:00:00  Административный сайт Mindbox   \n",
       "3      3         2022-02-06 00:00:00  Административный сайт Mindbox   \n",
       "4      4         2022-02-28 00:00:00  Административный сайт Mindbox   \n",
       "\n",
       "   OrderTotalPrice OrderLineStatusIdsExternalId  OrderCustomerIdsMindboxId  \n",
       "0              500                         Paid                       6959  \n",
       "1              200                         Paid                       7103  \n",
       "2              300                         Paid                       7321  \n",
       "3              300                         Paid                       7143  \n",
       "4               50                         Paid                       7079  "
      ]
     },
     "execution_count": 13,
     "metadata": {},
     "output_type": "execute_result"
    }
   ],
   "source": [
    "payments.head()"
   ]
  },
  {
   "cell_type": "markdown",
   "id": "bf359d70",
   "metadata": {},
   "source": [
    "#### Проверяем наличие явных дубликатов и обработать их при необходимости"
   ]
  },
  {
   "cell_type": "code",
   "execution_count": 14,
   "id": "f6c94688",
   "metadata": {},
   "outputs": [
    {
     "name": "stdout",
     "output_type": "stream",
     "text": [
      "0\n",
      "0\n"
     ]
    }
   ],
   "source": [
    "print(payments.duplicated().sum())\n",
    "print(users.duplicated().sum())"
   ]
  },
  {
   "cell_type": "markdown",
   "id": "072ec828",
   "metadata": {},
   "source": [
    "Явных дубликатов нет"
   ]
  },
  {
   "cell_type": "markdown",
   "id": "d2ee6125",
   "metadata": {},
   "source": [
    "#### Проверяем на наличие пропусков"
   ]
  },
  {
   "cell_type": "code",
   "execution_count": 15,
   "id": "2b09e783",
   "metadata": {},
   "outputs": [
    {
     "name": "stdout",
     "output_type": "stream",
     "text": [
      "Пропусков в таблице payments нет.\n",
      "Пропусков в таблице users нет.\n"
     ]
    }
   ],
   "source": [
    "def check_missing_values(df, df_name):\n",
    "    \"\"\"\n",
    "    Функция для подсчета и отображения пропущенных значений в столбцах датафрейма.\n",
    "    \"\"\"\n",
    "    # Подсчет пропусков по колонкам\n",
    "    report = df.isna().sum()\n",
    "\n",
    "    # Фильтрация только колонок с пропусками\n",
    "    report = report[report > 0].to_frame(name='missing_values')\n",
    "\n",
    "    # Проверка наличия пропусков и создание отчета\n",
    "    if not report.empty:\n",
    "        # Добавление столбца с процентами пропусков\n",
    "        report['% of total'] = (report['missing_values'] / df.shape[0]).round(3) * 100\n",
    "        report = report.sort_values(by='missing_values', ascending=False)\n",
    "        display(report)\n",
    "    else:\n",
    "        print(f\"Пропусков в таблице {df_name} нет.\")\n",
    "\n",
    "check_missing_values(payments, 'payments')\n",
    "check_missing_values(users, 'users')"
   ]
  },
  {
   "cell_type": "markdown",
   "id": "121605f8",
   "metadata": {},
   "source": [
    "### Исследовательский анализ данных (EDA)"
   ]
  },
  {
   "cell_type": "code",
   "execution_count": 16,
   "id": "aff0cf9b",
   "metadata": {},
   "outputs": [
    {
     "name": "stdout",
     "output_type": "stream",
     "text": [
      "Столбец: OrderFirstActionDateTimeUtc (Дата и время первого действия (UTC))\n",
      "Уникальных значений: 71078\n",
      "['2022-01-27 00:00:00' '2022-01-29 00:00:00' '2022-01-31 00:00:00'\n",
      " '2022-02-06 00:00:00' '2022-02-28 00:00:00']\n",
      "...\n",
      "--------------------------------------------------\n",
      "Столбец: OrderTotalPrice (Полная стоимость заказа)\n",
      "Уникальных значений: 812\n",
      "[ 500  200  300   50 2000]\n",
      "...\n",
      "--------------------------------------------------\n",
      "Столбец: OrderLineStatusIdsExternalId (Внешний идентификатор статуса линии)\n",
      "Уникальных значений: 3\n",
      "['Paid' 'fail' 'notpaid']\n",
      "--------------------------------------------------\n",
      "Столбец: OrderCustomerIdsMindboxId (Уникальный идентификатор клиента)\n",
      "Уникальных значений: 26206\n",
      "[6959 7103 7321 7143 7079]\n",
      "...\n",
      "--------------------------------------------------\n"
     ]
    }
   ],
   "source": [
    "# Словарь с описаниями столбцов\n",
    "column_descriptions = {\n",
    "    'OrderFirstActionDateTimeUtc': 'Дата и время первого действия (UTC)',\n",
    "    'OrderTotalPrice': 'Полная стоимость заказа',\n",
    "    'OrderLineStatusIdsExternalId': 'Внешний идентификатор статуса линии',\n",
    "    'OrderCustomerIdsMindboxId': 'Уникальный идентификатор клиента'\n",
    "}\n",
    "\n",
    "# Основной код для вывода уникальных значений и описания столбцов\n",
    "for col, description in column_descriptions.items():\n",
    "    unique_values = payments[col].unique()  # Получаем уникальные значения\n",
    "    unique_count = len(unique_values)  # Количество уникальных значений\n",
    "\n",
    "    print(f\"Столбец: {col} ({description})\")  # Выводим столбец и его описание\n",
    "    print(f\"Уникальных значений: {unique_count}\")\n",
    "    \n",
    "    # Выводим максимум 5 уникальных значений\n",
    "    print(unique_values[:5])  \n",
    "    \n",
    "    # Если уникальных значений больше 5, показываем, что есть еще\n",
    "    if unique_count > 5:\n",
    "        print('...')  # Указываем, что есть больше уникальных значений\n",
    "    \n",
    "    print('-' * 50)  # Разделитель для наглядности"
   ]
  },
  {
   "cell_type": "code",
   "execution_count": 17,
   "id": "815a5590",
   "metadata": {},
   "outputs": [
    {
     "name": "stdout",
     "output_type": "stream",
     "text": [
      "Столбец: CustomerActionDateTimeUtc (Время и дата действия пользователя (UTC))\n",
      "Уникальных значений: 388121\n",
      "['2022-03-19 21:30:00' '2021-10-14 15:50:00' '2021-03-18 10:52:00'\n",
      " '2022-11-23 08:40:00' '2022-11-23 08:41:00']\n",
      "...\n",
      "--------------------------------------------------\n",
      "Столбец: CustomerActionChannelName (Название канала)\n",
      "Уникальных значений: 342\n",
      "['Сайт' 'Административный сайт Mindbox' 'utm_term Не указан' 'Email'\n",
      " 'Прямой переход']\n",
      "...\n",
      "--------------------------------------------------\n",
      "Столбец: CustomerActionCustomerIdsMindboxId (Идентификатор пользователя)\n",
      "Уникальных значений: 28633\n",
      "[2734 2847 2861 3361 4982]\n",
      "...\n",
      "--------------------------------------------------\n"
     ]
    }
   ],
   "source": [
    "# Словарь с описаниями столбцов для датасета users\n",
    "column_descriptions_users = {\n",
    "    'CustomerActionDateTimeUtc': 'Время и дата действия пользователя (UTC)',\n",
    "    'CustomerActionChannelName': 'Название канала',\n",
    "    'CustomerActionCustomerIdsMindboxId': 'Идентификатор пользователя'\n",
    "}\n",
    "\n",
    "# Основной код для вывода уникальных значений и описания столбцов для users\n",
    "for col, description in column_descriptions_users.items():\n",
    "    unique_values = users[col].unique()  # Получаем уникальные значения\n",
    "    unique_count = len(unique_values)  # Количество уникальных значений\n",
    "\n",
    "    print(f\"Столбец: {col} ({description})\")  # Выводим столбец и его описание\n",
    "    print(f\"Уникальных значений: {unique_count}\")\n",
    "    \n",
    "    # Выводим максимум 5 уникальных значений\n",
    "    print(unique_values[:5])  \n",
    "    \n",
    "    # Если уникальных значений больше 5, показываем, что есть еще\n",
    "    if unique_count > 5:\n",
    "        print('...')  # Указываем, что есть больше уникальных значений\n",
    "    \n",
    "    print('-' * 50)  # Разделитель для наглядности"
   ]
  },
  {
   "cell_type": "code",
   "execution_count": 18,
   "id": "f4882599",
   "metadata": {},
   "outputs": [
    {
     "data": {
      "text/plain": [
       "CustomerActionChannelName\n",
       "Email                            2781285\n",
       "Сайт                              811895\n",
       "Административный сайт Mindbox      85143\n",
       "utm_term Не указан                 64523\n",
       "Прямой переход                     43904\n",
       "vk.com                              8644\n",
       "WebPush                             7729\n",
       "yandex.ru                           6180\n",
       "google.com                          3842\n",
       "instagram.com                       2819\n",
       "yoomoney.ru                         2039\n",
       "roditeli                            1978\n",
       "razovie                              990\n",
       "report                               735\n",
       "lina                                 648\n",
       "m.news.yandex.ru                     536\n",
       "ida                                  469\n",
       "ok.ru                                418\n",
       "ru.yandex.weatherplugin              388\n",
       "m.video.yandex.ru                    358\n",
       "Name: count, dtype: int64"
      ]
     },
     "execution_count": 18,
     "metadata": {},
     "output_type": "execute_result"
    }
   ],
   "source": [
    "users['CustomerActionChannelName'].value_counts().head(20)"
   ]
  },
  {
   "cell_type": "markdown",
   "id": "b1614845",
   "metadata": {},
   "source": [
    "### Проверка гипотез"
   ]
  },
  {
   "cell_type": "markdown",
   "id": "fb849ddf",
   "metadata": {},
   "source": [
    "**Гипотеза 1: Сезон и частота пожертвований**\n",
    "\n",
    "- **Нулевая гипотеза (H₀):** Частота пожертвований не зависит от месяца.  \n",
    "- **Альтернативная гипотеза (H₁):** Частота пожертвований зависит от месяца.  \n",
    "- **Критический уровень значимости (α):** 0.05.  \n",
    "- **Применяемый тест:** χ²-тест для равномерного распределения.  "
   ]
  },
  {
   "cell_type": "code",
   "execution_count": 19,
   "id": "fd76e125",
   "metadata": {},
   "outputs": [
    {
     "name": "stdout",
     "output_type": "stream",
     "text": [
      "Частота заказов по месяцам:\n",
      "OrderMonth\n",
      "1      6238\n",
      "2      7476\n",
      "3      7616\n",
      "4      8379\n",
      "5      8111\n",
      "6      9371\n",
      "7     10216\n",
      "8     13166\n",
      "9      7466\n",
      "10     5423\n",
      "11     5070\n",
      "12     8033\n",
      "Name: count, dtype: int64\n",
      "Результаты χ²-теста:\n",
      "χ² = 6542.24, p-value = 0.00\n",
      "Отклоняем нулевую гипотезу: частота заказов зависит от месяца.\n"
     ]
    }
   ],
   "source": [
    "# Преобразуем дату первого действия в дату и выделяем месяц\n",
    "payments['OrderMonth'] = pd.to_datetime(payments['OrderFirstActionDateTimeUtc']).dt.month\n",
    "\n",
    "# Подсчитаем частоту пожертвований по месяцам\n",
    "monthly_payments = payments['OrderMonth'].value_counts().sort_index()\n",
    "\n",
    "# Выводим пропорции пожертвований по месяцам\n",
    "print(\"Частота заказов по месяцам:\")\n",
    "print(monthly_payments)\n",
    "\n",
    "# Ожидаемое равномерное распределение (все месяцы одинаково вероятны)\n",
    "# Рассчитаем ожидаемую частоту как общее количество пожертвований, делённое на число месяцев\n",
    "expected_frequencies = [len(payments) / 12] * 12\n",
    "\n",
    "# Выполняем χ²-тест\n",
    "chi2, p_val = stats.chisquare(f_obs=monthly_payments, f_exp=expected_frequencies)\n",
    "\n",
    "# Выводим результаты теста\n",
    "print(f\"Результаты χ²-теста:\")\n",
    "print(f\"χ² = {chi2:.2f}, p-value = {p_val:.2f}\")\n",
    "\n",
    "# Интерпретация результатов\n",
    "alpha = 0.05  # Уровень значимости\n",
    "if p_val < alpha:\n",
    "    print(\"Отклоняем нулевую гипотезу: частота заказов зависит от месяца.\")\n",
    "else:\n",
    "    print(\"Не удалось отклонить нулевую гипотезу: частота заказов не зависит от месяца.\")"
   ]
  },
  {
   "cell_type": "markdown",
   "id": "0cbda756",
   "metadata": {},
   "source": [
    "Результаты анализа показывают, что частота заказов действительно зависит от месяца, поскольку p-value меньше критического уровня значимости (alpha = 0.05). Это указывает на то, что распределение заказов по месяцам неравномерное."
   ]
  },
  {
   "cell_type": "markdown",
   "id": "eefa2598",
   "metadata": {},
   "source": [
    "**Гипотеза 2: Канал привлечения влияет на долю повторных заказов**\n",
    "\n",
    "- **Нулевая гипотеза (H₀):** Доля повторных заказов не зависит от канала привлечения.  \n",
    "- **Альтернативная гипотеза (H₁):** Доля повторных заказов зависит от канала привлечения.  \n",
    "- **Критический уровень значимости (α):** 0.05.  \n",
    "- **Применяемый тест:** χ²-тест для проверки связи между двумя категориальными переменными."
   ]
  },
  {
   "cell_type": "code",
   "execution_count": 20,
   "id": "a14adfd0",
   "metadata": {},
   "outputs": [
    {
     "name": "stdout",
     "output_type": "stream",
     "text": [
      "Пропорции повторных заказов по каналам:\n",
      "IsRepeated                     False  True \n",
      "OrderFirstActionChannelName                \n",
      "Административный сайт Mindbox   2939  11353\n",
      "Сайт                           12128  70145\n",
      "\n",
      "Результаты χ²-теста:\n",
      "χ² = 313.07, p-value = 0.00\n",
      "Отклоняем нулевую гипотезу: доля повторных заказов зависит от канала привлечения.\n"
     ]
    }
   ],
   "source": [
    "# Определим, у каких пользователей есть повторные заказы\n",
    "repeated_orders = payments.groupby('OrderCustomerIdsMindboxId').size() > 1\n",
    "\n",
    "# Добавим флаг повторных заказов в таблицу payments\n",
    "payments['IsRepeated'] = payments['OrderCustomerIdsMindboxId'].isin(repeated_orders[repeated_orders].index)\n",
    "\n",
    "# Подсчитаем количество повторных и неповторных заказов для каждого канала привлечения\n",
    "channel_repeats = payments.groupby(['OrderFirstActionChannelName', 'IsRepeated']).size().unstack(fill_value=0)\n",
    "\n",
    "# Вывод пропорций повторных и неповторных заказов по каналам\n",
    "print(\"Пропорции повторных заказов по каналам:\")\n",
    "print(channel_repeats)\n",
    "\n",
    "# Выполняем χ²-тест\n",
    "chi2, p_val, dof, expected = chi2_contingency(channel_repeats)\n",
    "\n",
    "# Выводим результаты теста\n",
    "print(\"\\nРезультаты χ²-теста:\")\n",
    "print(f\"χ² = {chi2:.2f}, p-value = {p_val:.2f}\")\n",
    "\n",
    "# Интерпретация результатов\n",
    "alpha = 0.05  # Уровень значимости\n",
    "if p_val < alpha:\n",
    "    print(\"Отклоняем нулевую гипотезу: доля повторных заказов зависит от канала привлечения.\")\n",
    "else:\n",
    "    print(\"Не удалось отклонить нулевую гипотезу: доля повторных заказов не зависит от канала привлечения.\")"
   ]
  },
  {
   "cell_type": "markdown",
   "id": "9a1f3e7c",
   "metadata": {},
   "source": [
    "Результаты анализа показали, что доля повторных заказов статистически значимо зависит от канала привлечения (χ² = 313.07, p-value = 0.00). Наибольшая доля повторных заказов наблюдается среди пользователей, привлеченных через сайт."
   ]
  },
  {
   "cell_type": "markdown",
   "id": "88e3ae7f",
   "metadata": {},
   "source": [
    "### Итоги\n",
    "\n",
    " - Написан скрипт-загрузчик. Он проверяет, скачаны ли уже файлы. Если скачаны, то он их скачивает повторно только если они были изменены.\n",
    " \n",
    " - Создан датафрейм `payments` c донатами пользователей.\n",
    "\n",
    " - Создан датафрейм `users` объединённый из 4-х датасетов, c действиями пользователей.\n",
    "\n",
    " - Изменены типы данных в колонках `CustomerActionDateTimeUtc` из датафрейма `users` и `OrderFirstActionDateTimeUtc` из датафрейма `payments` на datetime.\n",
    " \n",
    " - Явных дубликатов и пропусков в таблицах нет\n",
    "\n",
    " - Создана БД с загруженными таблицами\n",
    " \n",
    " - Проверены 2 гипотезы. В следствии которых было обнаружено что:\n",
    "   - Частота заказов зависит от месяца.\n",
    "   - Доля повторных заказов зависит от канала привлечения.\n",
    "\n",
    " - Создан дашборд"
   ]
  }
 ],
 "metadata": {
  "kernelspec": {
   "display_name": "Python 3 (ipykernel)",
   "language": "python",
   "name": "python3"
  },
  "language_info": {
   "codemirror_mode": {
    "name": "ipython",
    "version": 3
   },
   "file_extension": ".py",
   "mimetype": "text/x-python",
   "name": "python",
   "nbconvert_exporter": "python",
   "pygments_lexer": "ipython3",
   "version": "3.11.9"
  }
 },
 "nbformat": 4,
 "nbformat_minor": 5
}
