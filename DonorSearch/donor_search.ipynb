{
 "cells": [
  {
   "cell_type": "markdown",
   "id": "e24a7487-70af-4469-8a21-ea3cefee747f",
   "metadata": {},
   "source": [
    "# Кластеризация пользователей [DonorSearch](https://donorsearch.org/about/)\n",
    "\n",
    "[Ссылка](https://drive.google.com/file/d/1-Y5J6H3lX7qye3gtwd1pXMm-DmNds4Yp/view?usp=sharing) на презентацию.\n",
    "\n",
    "**Описание проекта:** Кто-то говорит, что донорской крови не хватает, в то же время в центрах крови могут отказывать в донации из-за переизбытка крови на складе. Мы, в DonorSearch знаем, что эта проблема актуальная для всего мира. И мы знаем, как ее решить.\n",
    "Мы мотивируем людей становиться донорами. С DonorSearch легче пройти путь от первой донации к регулярным и к званию Почетного донора. Но это не основная наша задача…\n",
    "Кто-то говорит, что донорской крови не хватает, в то же время в центрах крови могут отказывать в донации из-за переизбытка крови на складе. Мы в DonorSearch знаем, что эта проблема актуальная для всего мира. И мы знаем, как ее решить.\n",
    "\n",
    "**Цель исследования:** Разделить пользователей на следующие кластеры: `активный донор`, `спящий донор`, `реактивированный донор`, `потерянный`. Это поможет оценить текущее количество активных и неактивных доноров, а также отслеживать изменения в этих группах. Например, если мы видим увеличение количества реактивированных доноров, мы можем предположить, что предпринятые действия были успешными и помогли вернуть доноров к активности. Анализируя характеристики и поведение реактивированных доноров, мы сможем понять, что именно способствовало их возвращению и как можно использовать эти знания для дальнейшего повышения активности доноров.\n",
    "\n",
    "## Описание данных\n",
    "\n",
    " - `ID донора` - Уникальный идентификатор донора.\n",
    " - `Подтверждённых донаций` - Количество (до и после регистрации) донаций донора, которые он подтвердил справками.\n",
    " - `Дата донации` - Дата донации.\n",
    " - `Статус донации` -  Может принимать одно из четырех значений.\n",
    " - `Готов сдавать донорские материалы` - Да или Нет. Пользователь отмечает эту информацию только на сайте.\n",
    " - `Дни с последней донации` - Сколько дней прошло с последней донации.\n",
    " - `Разница между донациями` - Сколько дней прошло между донациями.\n",
    " - `Кластер` - К какому кластеру определён донор."
   ]
  },
  {
   "cell_type": "markdown",
   "id": "34f142ba-52b9-4c77-863f-67ab4c10ec24",
   "metadata": {},
   "source": [
    "## Инструкция по выполнению проекта\n",
    "\n",
    "### Шаг 1. Загрузка данных\n",
    "\n",
    " - Импорт библиотек\n",
    " - Загрузка данных и вывод первых строк\n",
    "\n",
    "### Шаг 2. Предобработка данных\n",
    "\n",
    " - Переименовать столбцы\n",
    " - Объединить датафреймы\n",
    " - Изменить тип данных\n",
    " - Сохранить размер исходного датафрейма\n",
    " - Проверить наличие явных дубликатов и обработать их при необходимости\n",
    " - Проверить аномалии и выбросы в данных и при необходимости обработать их\n",
    " - Удалить записи со статусом \"На модерации\" и \"На модерации после принятия\" в столбце 'Статус донации'\n",
    " - Объединить столбцы\n",
    " - Проверить, есть ли отрицательные значения\n",
    " - Проверяем на наличие пропусков\n",
    " - Посчитать оставшиеся данные в процентах после предобработки\n",
    "\n",
    "### Шаг 3. Исследовательский анализ данных (EDA)\n",
    "\n",
    " - Изучить распределение количества подтверждённых донаций\n",
    " - Изучить распределение количества дней с последней донации\n",
    " - Изучить распределение готовности сдавать донорские материалы\n",
    " - Изучить распределение статусов донации\n",
    " - Изучить распределение дат донаций\n",
    "\n",
    "### Шаг 4. Определение четких правил, как отнести пользователя к тому или иному кластеру\n",
    "\n",
    " - Написание правил\n",
    " - Гипотезы и предпосылки, которые привели к выделению кластеров\n",
    " - Создание функции, на основе этих правил\n",
    "\n",
    "### Шаг 5. Создание презентации\n",
    "\n",
    " - Предоставить её нужно в формате pdf"
   ]
  },
  {
   "cell_type": "markdown",
   "id": "31b59b59-9a77-4aff-9196-b58a6de40e75",
   "metadata": {},
   "source": [
    "## Выполнение проекта"
   ]
  },
  {
   "cell_type": "markdown",
   "id": "f359314a-2a95-4dfd-97ee-bc1702cc0396",
   "metadata": {
    "jp-MarkdownHeadingCollapsed": true
   },
   "source": [
    "### Шаг 1. Загрузка данных"
   ]
  },
  {
   "cell_type": "code",
   "execution_count": 1,
   "id": "1bb88838-a2cc-47c6-a5c6-79fb4c2310b5",
   "metadata": {},
   "outputs": [],
   "source": [
    "import pandas as pd\n",
    "import matplotlib.pyplot as plt\n",
    "import seaborn as sns\n",
    "from scipy.stats import chi2_contingency, mannwhitneyu"
   ]
  },
  {
   "cell_type": "code",
   "execution_count": 2,
   "id": "b250a4ae-4e91-40fc-9b45-7537fa5f71c3",
   "metadata": {},
   "outputs": [
    {
     "data": {
      "text/html": [
       "<div>\n",
       "<style scoped>\n",
       "    .dataframe tbody tr th:only-of-type {\n",
       "        vertical-align: middle;\n",
       "    }\n",
       "\n",
       "    .dataframe tbody tr th {\n",
       "        vertical-align: top;\n",
       "    }\n",
       "\n",
       "    .dataframe thead th {\n",
       "        text-align: right;\n",
       "    }\n",
       "</style>\n",
       "<table border=\"1\" class=\"dataframe\">\n",
       "  <thead>\n",
       "    <tr style=\"text-align: right;\">\n",
       "      <th></th>\n",
       "      <th>ID</th>\n",
       "      <th>Готов сдавать Цельную кровь</th>\n",
       "      <th>Готов сдавать Плазму</th>\n",
       "      <th>Готов сдавать Тромбоциты</th>\n",
       "      <th>Готов сдавать Эритроциты</th>\n",
       "      <th>Готов сдавать Лейкоциты</th>\n",
       "      <th>Готов сдавать Костный мозг</th>\n",
       "      <th>Прошедших донаций</th>\n",
       "      <th>Количество взятых бонусов</th>\n",
       "    </tr>\n",
       "  </thead>\n",
       "  <tbody>\n",
       "    <tr>\n",
       "      <th>0</th>\n",
       "      <td>300328</td>\n",
       "      <td>Да</td>\n",
       "      <td>Да</td>\n",
       "      <td>Да</td>\n",
       "      <td>Да</td>\n",
       "      <td>Да</td>\n",
       "      <td>Нет</td>\n",
       "      <td>0</td>\n",
       "      <td>0</td>\n",
       "    </tr>\n",
       "    <tr>\n",
       "      <th>1</th>\n",
       "      <td>300327</td>\n",
       "      <td>Да</td>\n",
       "      <td>Да</td>\n",
       "      <td>Да</td>\n",
       "      <td>Да</td>\n",
       "      <td>Да</td>\n",
       "      <td>Нет</td>\n",
       "      <td>0</td>\n",
       "      <td>0</td>\n",
       "    </tr>\n",
       "    <tr>\n",
       "      <th>2</th>\n",
       "      <td>300326</td>\n",
       "      <td>Да</td>\n",
       "      <td>Да</td>\n",
       "      <td>Да</td>\n",
       "      <td>Да</td>\n",
       "      <td>Да</td>\n",
       "      <td>Нет</td>\n",
       "      <td>0</td>\n",
       "      <td>0</td>\n",
       "    </tr>\n",
       "  </tbody>\n",
       "</table>\n",
       "</div>"
      ],
      "text/plain": [
       "       ID Готов сдавать Цельную кровь Готов сдавать Плазму  \\\n",
       "0  300328                          Да                   Да   \n",
       "1  300327                          Да                   Да   \n",
       "2  300326                          Да                   Да   \n",
       "\n",
       "  Готов сдавать Тромбоциты Готов сдавать Эритроциты Готов сдавать Лейкоциты  \\\n",
       "0                       Да                       Да                      Да   \n",
       "1                       Да                       Да                      Да   \n",
       "2                       Да                       Да                      Да   \n",
       "\n",
       "  Готов сдавать Костный мозг  Прошедших донаций  Количество взятых бонусов  \n",
       "0                        Нет                  0                          0  \n",
       "1                        Нет                  0                          0  \n",
       "2                        Нет                  0                          0  "
      ]
     },
     "execution_count": 2,
     "metadata": {},
     "output_type": "execute_result"
    }
   ],
   "source": [
    "columns_to_load = ['ID', 'Прошедших донаций', 'Готов сдавать Цельную кровь', 'Готов сдавать Плазму',\n",
    "                   'Готов сдавать Тромбоциты', 'Готов сдавать Эритроциты', 'Готов сдавать Лейкоциты',\n",
    "                   'Готов сдавать Костный мозг', 'Количество взятых бонусов']\n",
    "\n",
    "users_data = pd.read_csv('F:\\\\Датасеты\\\\DonorSearch2024\\\\users_anon_data.csv', usecols=columns_to_load)\n",
    "users_data.head(3)"
   ]
  },
  {
   "cell_type": "code",
   "execution_count": 3,
   "id": "ec20e2a8-cb5b-4e73-8c16-ed541afc4e8a",
   "metadata": {},
   "outputs": [
    {
     "data": {
      "text/html": [
       "<div>\n",
       "<style scoped>\n",
       "    .dataframe tbody tr th:only-of-type {\n",
       "        vertical-align: middle;\n",
       "    }\n",
       "\n",
       "    .dataframe tbody tr th {\n",
       "        vertical-align: top;\n",
       "    }\n",
       "\n",
       "    .dataframe thead th {\n",
       "        text-align: right;\n",
       "    }\n",
       "</style>\n",
       "<table border=\"1\" class=\"dataframe\">\n",
       "  <thead>\n",
       "    <tr style=\"text-align: right;\">\n",
       "      <th></th>\n",
       "      <th>ID пользователя</th>\n",
       "      <th>Дата донации</th>\n",
       "      <th>Статус донации</th>\n",
       "    </tr>\n",
       "  </thead>\n",
       "  <tbody>\n",
       "    <tr>\n",
       "      <th>0</th>\n",
       "      <td>210974</td>\n",
       "      <td>22.11.2023</td>\n",
       "      <td>На модерации</td>\n",
       "    </tr>\n",
       "    <tr>\n",
       "      <th>1</th>\n",
       "      <td>146460</td>\n",
       "      <td>16.08.2024</td>\n",
       "      <td>На модерации</td>\n",
       "    </tr>\n",
       "    <tr>\n",
       "      <th>2</th>\n",
       "      <td>292587</td>\n",
       "      <td>24.08.2024</td>\n",
       "      <td>На модерации</td>\n",
       "    </tr>\n",
       "  </tbody>\n",
       "</table>\n",
       "</div>"
      ],
      "text/plain": [
       "   ID пользователя Дата донации Статус донации\n",
       "0           210974   22.11.2023   На модерации\n",
       "1           146460   16.08.2024   На модерации\n",
       "2           292587   24.08.2024   На модерации"
      ]
     },
     "execution_count": 3,
     "metadata": {},
     "output_type": "execute_result"
    }
   ],
   "source": [
    "columns_to_load = ['ID пользователя', 'Дата донации', 'Статус донации']\n",
    "\n",
    "donations = pd.read_csv('F:\\\\Датасеты\\\\DonorSearch2024\\\\donations_anon.csv', usecols=columns_to_load)\n",
    "\n",
    "donations.head(3)"
   ]
  },
  {
   "cell_type": "markdown",
   "id": "0828391f-a37c-4216-aadc-fd7712384e09",
   "metadata": {},
   "source": [
    "### Шаг 2. Предобработка данных"
   ]
  },
  {
   "cell_type": "markdown",
   "id": "e59149c6",
   "metadata": {},
   "source": [
    "#### Переименовать столбцы"
   ]
  },
  {
   "cell_type": "code",
   "execution_count": 4,
   "id": "9676d47a",
   "metadata": {},
   "outputs": [],
   "source": [
    "users_data = users_data.rename(columns={'ID': 'ID донора', 'Прошедших донаций': 'Подтверждённых донаций'})\n",
    "donations = donations.rename(columns={'ID пользователя': 'ID донора'})"
   ]
  },
  {
   "cell_type": "markdown",
   "id": "a696f3cd",
   "metadata": {},
   "source": [
    "Переименовал столбцы, для большей понятности и для того, чтобы в дальнейшем можно было объединить датафреймы."
   ]
  },
  {
   "cell_type": "markdown",
   "id": "830645d3",
   "metadata": {},
   "source": [
    "#### Объединить датафреймы"
   ]
  },
  {
   "cell_type": "code",
   "execution_count": 5,
   "id": "81b46058",
   "metadata": {},
   "outputs": [],
   "source": [
    "df = users_data.merge(donations, on='ID донора', how='left', suffixes=('_user', '_donation'))"
   ]
  },
  {
   "cell_type": "markdown",
   "id": "ae0fd2ca",
   "metadata": {},
   "source": [
    "Объединил датафреймы для большего удобства."
   ]
  },
  {
   "cell_type": "markdown",
   "id": "c5ea3062-b33a-4fcc-8c54-d122fe8ee6ef",
   "metadata": {},
   "source": [
    "#### Изменить тип данных"
   ]
  },
  {
   "cell_type": "code",
   "execution_count": 6,
   "id": "4a9b0a9f",
   "metadata": {},
   "outputs": [],
   "source": [
    "df['Дата донации'] = pd.to_datetime(df['Дата донации'], format='%d.%m.%Y', errors='coerce', dayfirst=True)"
   ]
  },
  {
   "cell_type": "markdown",
   "id": "c9005140",
   "metadata": {},
   "source": [
    "Привёл тип данных в колонке `Дата донации` к формату datetime."
   ]
  },
  {
   "cell_type": "markdown",
   "id": "3bc57328-da40-443a-a315-8de9976f58ae",
   "metadata": {},
   "source": [
    "#### Сохранить размер исходного датафрейма"
   ]
  },
  {
   "cell_type": "code",
   "execution_count": 7,
   "id": "604b2d3d-bfa5-4ffe-afc2-bb613f1a6fcf",
   "metadata": {},
   "outputs": [],
   "source": [
    "initial_rows = df.shape[0]"
   ]
  },
  {
   "cell_type": "markdown",
   "id": "8a1b8a7c",
   "metadata": {},
   "source": [
    "Сохранил размер исходного датафрема, чтобы в дальнейшем можно было посчитать, сколько данных осталось после предобработки."
   ]
  },
  {
   "cell_type": "markdown",
   "id": "f0a2c14a-98dd-4c67-bc21-1f4fc8eb2f2e",
   "metadata": {},
   "source": [
    "#### Проверить наличие явных дубликатов и обработать их при необходимости"
   ]
  },
  {
   "cell_type": "code",
   "execution_count": 8,
   "id": "9d27c313-94c0-4ebc-91b2-168fc7fde4e5",
   "metadata": {},
   "outputs": [
    {
     "name": "stdout",
     "output_type": "stream",
     "text": [
      "44636\n"
     ]
    }
   ],
   "source": [
    "print(df.duplicated().sum())"
   ]
  },
  {
   "cell_type": "code",
   "execution_count": 9,
   "id": "4d298b7d",
   "metadata": {},
   "outputs": [],
   "source": [
    "df = df.drop_duplicates()"
   ]
  },
  {
   "cell_type": "markdown",
   "id": "82254ad6",
   "metadata": {},
   "source": [
    "Удалено 44636 явных дубликатов"
   ]
  },
  {
   "cell_type": "markdown",
   "id": "2bfa5455-508e-4a58-b142-d3248ac1d93a",
   "metadata": {},
   "source": [
    "#### Проверить аномалии и выбросы в данных и при необходимости обработать их"
   ]
  },
  {
   "cell_type": "code",
   "execution_count": 10,
   "id": "586af493",
   "metadata": {},
   "outputs": [],
   "source": [
    "current_date = pd.to_datetime('today') # Получение текущей даты\n",
    "\n",
    "df.loc[df['Дата донации'] > current_date, 'Дата донации'] = pd.NaT # Заменяем даты, которые позже сегодняшней даты, на NaT"
   ]
  },
  {
   "cell_type": "markdown",
   "id": "51d8dfa8",
   "metadata": {},
   "source": [
    "Заменил даты в колонке `Дата донации` после текущей даты, на пропуски, т.к. позже этой даты события не могли произойти."
   ]
  },
  {
   "cell_type": "code",
   "execution_count": 11,
   "id": "723f8934",
   "metadata": {},
   "outputs": [],
   "source": [
    "# Выбираем доноров с 0 подтвержденных донаций, но с указанной датой донации\n",
    "condition = df[(df['Подтверждённых донаций'] == 0) & (df['Дата донации'].notna())]\n",
    "\n",
    "# Считаем количество уникальных дат донаций для каждого донора\n",
    "donation_counts = condition.groupby('ID донора')['Дата донации'].nunique()\n",
    "\n",
    "# Заменяем количество подтвержденных донаций на количество уникальных дат донаций для соответствующих доноров\n",
    "df.loc[df['ID донора'].isin(donation_counts.index) & (df['Подтверждённых донаций'] == 0), 'Подтверждённых донаций'] = \\\n",
    "    df['ID донора'].map(donation_counts)"
   ]
  },
  {
   "cell_type": "markdown",
   "id": "d5b2ff6d",
   "metadata": {},
   "source": [
    "У некоторых доноров были указаны даты донации, но количество подтверждённых донаций было 0. Были посчитаны даты донаций и заменены нули на реальное количество донаций."
   ]
  },
  {
   "cell_type": "code",
   "execution_count": 12,
   "id": "ffab5d0e",
   "metadata": {},
   "outputs": [
    {
     "data": {
      "text/plain": [
       "22"
      ]
     },
     "execution_count": 12,
     "metadata": {},
     "output_type": "execute_result"
    }
   ],
   "source": [
    "# Фильтрация данных для вывода пользователей с подтвержденными донациями и пропусками в дате донации\n",
    "confirmed_donations_missing_date = df[(df['Подтверждённых донаций'] > 0) & (df['Дата донации'].isna())]\n",
    "\n",
    "len(confirmed_donations_missing_date) # выясняем сколько таких строк"
   ]
  },
  {
   "cell_type": "markdown",
   "id": "23d1c2dd",
   "metadata": {},
   "source": [
    "Есть 22 строки, в которых дата донации не указана, но есть подтверждённые донации."
   ]
  },
  {
   "cell_type": "code",
   "execution_count": 13,
   "id": "f1dffd60",
   "metadata": {},
   "outputs": [],
   "source": [
    "df = df[~((df['Подтверждённых донаций'] > 0) & (df['Дата донации'].isna()))]"
   ]
  },
  {
   "cell_type": "markdown",
   "id": "819dc5ee",
   "metadata": {},
   "source": [
    "Удалены пользователи с подтвержденными донациями и пропусками в дате донации"
   ]
  },
  {
   "cell_type": "markdown",
   "id": "2c77c3e2",
   "metadata": {},
   "source": [
    "#### Удалить записи с лишними статусами в столбце 'Статус донации'"
   ]
  },
  {
   "cell_type": "code",
   "execution_count": 14,
   "id": "c78610f0",
   "metadata": {},
   "outputs": [],
   "source": [
    "df = df[~df['Статус донации'].isin(['На модерации', 'На модерации после принятия', 'Удалена', 'Отклонена'])]"
   ]
  },
  {
   "cell_type": "markdown",
   "id": "28d1a567",
   "metadata": {},
   "source": [
    "Удалены записи со статусами `На модерации`, `На модерации после принятия`, `Удалена`, `Отклонена` в столбце `Статус донации`, т.к. по словам заказчика их не стоит рассматривать."
   ]
  },
  {
   "cell_type": "markdown",
   "id": "6ccaa674",
   "metadata": {},
   "source": [
    "#### Объединить столбцы"
   ]
  },
  {
   "cell_type": "code",
   "execution_count": 15,
   "id": "06926838",
   "metadata": {},
   "outputs": [],
   "source": [
    "cols = ['Готов сдавать Цельную кровь', 'Готов сдавать Плазму', 'Готов сдавать Тромбоциты',\n",
    "        'Готов сдавать Эритроциты', 'Готов сдавать Лейкоциты', 'Готов сдавать Костный мозг']\n",
    "\n",
    "df['Готов сдавать донорские материалы'] = df[cols].apply(lambda row: 'Да' if 'Да' in row.values else 'Нет', axis=1)\n",
    "\n",
    "df = df.drop(columns=cols) # Удаление старых колонок"
   ]
  },
  {
   "cell_type": "markdown",
   "id": "2e6825c4",
   "metadata": {},
   "source": [
    "Объединены столбцы `Готов сдавать Цельную кровь`, `Готов сдавать Плазму`, `Готов сдавать Тромбоциты`, `Готов сдавать Эритроциты`, `Готов сдавать Лейкоциты`, `Готов сдавать Костный мозг` в виде одного столбца `Готов сдавать донорские материалы`, т.к. необходима общая информация, а не по каждому донорскому материалу в отдельности."
   ]
  },
  {
   "cell_type": "markdown",
   "id": "a744c5ca",
   "metadata": {},
   "source": [
    "#### Проверить, есть ли отрицательные значения"
   ]
  },
  {
   "cell_type": "code",
   "execution_count": 16,
   "id": "a0e0bab3",
   "metadata": {},
   "outputs": [
    {
     "name": "stdout",
     "output_type": "stream",
     "text": [
      "В датафрейме нет отрицательных значений.\n"
     ]
    }
   ],
   "source": [
    "# Проверка на наличие отрицательных значений в датафрейме df\n",
    "negative_values = (df.select_dtypes(include=['int64', 'float64']) < 0).any().any()\n",
    "\n",
    "if negative_values:\n",
    "    print(\"В датафрейме есть отрицательные значения.\")\n",
    "else:\n",
    "    print(\"В датафрейме нет отрицательных значений.\")"
   ]
  },
  {
   "cell_type": "markdown",
   "id": "0a3d8dc9-ba9f-4281-ad71-3de512c8d648",
   "metadata": {},
   "source": [
    "#### Проверяем на наличие пропусков"
   ]
  },
  {
   "cell_type": "code",
   "execution_count": 17,
   "id": "81d2003f-e4cf-4b61-baa9-c126bbcb6f0a",
   "metadata": {},
   "outputs": [
    {
     "data": {
      "text/html": [
       "<div>\n",
       "<style scoped>\n",
       "    .dataframe tbody tr th:only-of-type {\n",
       "        vertical-align: middle;\n",
       "    }\n",
       "\n",
       "    .dataframe tbody tr th {\n",
       "        vertical-align: top;\n",
       "    }\n",
       "\n",
       "    .dataframe thead th {\n",
       "        text-align: right;\n",
       "    }\n",
       "</style>\n",
       "<table border=\"1\" class=\"dataframe\">\n",
       "  <thead>\n",
       "    <tr style=\"text-align: right;\">\n",
       "      <th></th>\n",
       "      <th>missing_values</th>\n",
       "      <th>% of total</th>\n",
       "    </tr>\n",
       "  </thead>\n",
       "  <tbody>\n",
       "    <tr>\n",
       "      <th>Дата донации</th>\n",
       "      <td>233738</td>\n",
       "      <td>43.5</td>\n",
       "    </tr>\n",
       "    <tr>\n",
       "      <th>Статус донации</th>\n",
       "      <td>233738</td>\n",
       "      <td>43.5</td>\n",
       "    </tr>\n",
       "  </tbody>\n",
       "</table>\n",
       "</div>"
      ],
      "text/plain": [
       "                missing_values  % of total\n",
       "Дата донации            233738        43.5\n",
       "Статус донации          233738        43.5"
      ]
     },
     "metadata": {},
     "output_type": "display_data"
    }
   ],
   "source": [
    "def check_missing_values(df, df_name):\n",
    "    \"\"\"\n",
    "    Функция для подсчета и отображения пропущенных значений в столбцах датафрейма.\n",
    "    \"\"\"\n",
    "    # Подсчет пропусков по колонкам\n",
    "    report = df.isna().sum()\n",
    "\n",
    "    # Фильтрация только колонок с пропусками\n",
    "    report = report[report > 0].to_frame(name='missing_values')\n",
    "\n",
    "    # Проверка наличия пропусков и создание отчета\n",
    "    if not report.empty:\n",
    "        # Добавление столбца с процентами пропусков\n",
    "        report['% of total'] = (report['missing_values'] / df.shape[0]).round(3) * 100\n",
    "        report = report.sort_values(by='missing_values', ascending=False)\n",
    "        display(report)\n",
    "    else:\n",
    "        print(f\"Пропусков в таблице {df_name} нет.\")\n",
    "\n",
    "check_missing_values(df, 'df')"
   ]
  },
  {
   "cell_type": "markdown",
   "id": "647c6418",
   "metadata": {},
   "source": [
    "Пропуски есть только в столбцах `Дата донации` и `Статус донации`. Удалять их нельзя, т.к. иначе мы потеряем значительную часть данных."
   ]
  },
  {
   "cell_type": "markdown",
   "id": "ff0fcc88-3ff6-47d7-9860-c649058808f2",
   "metadata": {},
   "source": [
    "#### Посчитать оставшиеся данные в процентах после предобработки"
   ]
  },
  {
   "cell_type": "code",
   "execution_count": 18,
   "id": "8a82e0cb",
   "metadata": {},
   "outputs": [
    {
     "name": "stdout",
     "output_type": "stream",
     "text": [
      "Процент оставшихся данных после предобработки: 90.97%\n"
     ]
    }
   ],
   "source": [
    "percentage_remaining = (df.shape[0] / initial_rows) * 100\n",
    "\n",
    "print(f\"Процент оставшихся данных после предобработки: {percentage_remaining:.2f}%\")"
   ]
  },
  {
   "cell_type": "markdown",
   "id": "2ca9a08c",
   "metadata": {},
   "source": [
    "**Промежуточные выводы:**\n",
    "\n",
    " - Объединил датафреймы для большего удобства.\n",
    " - Привёл тип данных в колонке `Дата донации` к формату datetime.\n",
    " - Сохранил размер исходного датафрема, чтобы в дальнейшем можно было посчитать, сколько данных осталось после предобработки.\n",
    " - Удалено 44636 явных дубликатов\n",
    " - Заменил даты в колонке `Дата донации` после текущей даты, на пропуски, т.к. позже этой даты события не могли произойти.\n",
    " - У некоторых доноров были указаны даты донации, но количество подтверждённых донаций было 0. Были посчитаны даты донаций и заменены нули на реальное количество донаций.\n",
    " - Было 22 строки, в которых дата донации не указана, но есть подтверждённые донации. Удалены пользователи с подтвержденными донациями и пропусками в дате донации.\n",
    " - Удалены записи со статусами `На модерации`, `На модерации после принятия`, `Удалена`, `Отклонена` в столбце `Статус донации`, т.к. по словам заказчика их не стоит рассматривать.\n",
    " - Объединены столбцы `Готов сдавать Цельную кровь`, `Готов сдавать Плазму`, `Готов сдавать Тромбоциты`, `Готов сдавать Эритроциты`, `Готов сдавать Лейкоциты`, `Готов сдавать Костный мозг` в виде одного столбца `Готов сдавать донорские материалы`, т.к. необходима общая информация, а не по каждому донорскому материалу в отдельности.\n",
    " - В датафрейме нет отрицательных значений.\n",
    " - Пропуски есть только в столбцах `Дата донации` и `Статус донации`. Удалять их нельзя, т.к. иначе мы потеряем значительную часть данных.\n",
    " - Процент оставшихся данных после предобработки: 90.97%"
   ]
  },
  {
   "cell_type": "markdown",
   "id": "3f182562-76a3-4fd0-96e2-79df1708ef5e",
   "metadata": {},
   "source": [
    "### Шаг 3. Исследовательский анализ данных (EDA)"
   ]
  },
  {
   "cell_type": "markdown",
   "id": "73cadbfa",
   "metadata": {},
   "source": [
    "#### Изучить распределение количества подтверждённых донаций на одного донора"
   ]
  },
  {
   "cell_type": "code",
   "execution_count": 19,
   "id": "5f1e3adb",
   "metadata": {},
   "outputs": [
    {
     "data": {
      "image/png": "[encoded data removed]",
      "text/plain": [
       "<Figure size 1200x600 with 1 Axes>"
      ]
     },
     "metadata": {},
     "output_type": "display_data"
    },
    {
     "data": {
      "image/png": "[encoded data removed]",
      "text/plain": [
       "<Figure size 1300x100 with 1 Axes>"
      ]
     },
     "metadata": {},
     "output_type": "display_data"
    }
   ],
   "source": [
    "# Построение графика распределения количества донаций\n",
    "plt.figure(figsize=(12, 6))\n",
    "sns.histplot(df['Подтверждённых донаций'].dropna(), kde=False, bins=10)\n",
    "plt.title('Распределение количества всех подтверждённых донаций на одного донора')\n",
    "plt.xlabel('Количество донаций')\n",
    "plt.ylabel('Частота')\n",
    "plt.show()\n",
    "\n",
    "# Пример для количества подтвержденных донаций\n",
    "plt.figure(figsize=(13, 1))\n",
    "sns.boxplot(x=df['Подтверждённых донаций'])\n",
    "plt.title('Распределение количества всех подтверждённых донаций на одного донора')\n",
    "plt.show()"
   ]
  },
  {
   "cell_type": "markdown",
   "id": "70b80ab9",
   "metadata": {},
   "source": [
    "Большинство доноров имеют до 30 подтвержденных донаций. Это распределение показывает, сколько подтвержденных донаций приходится на одного донора."
   ]
  },
  {
   "cell_type": "markdown",
   "id": "65f9fa84",
   "metadata": {},
   "source": [
    "#### Изучить распределение количества дней с последней донации"
   ]
  },
  {
   "cell_type": "code",
   "execution_count": 20,
   "id": "91857162",
   "metadata": {},
   "outputs": [
    {
     "data": {
      "image/png": "[encoded data removed]",
      "text/plain": [
       "<Figure size 1200x600 with 1 Axes>"
      ]
     },
     "metadata": {},
     "output_type": "display_data"
    },
    {
     "data": {
      "image/png": "[encoded data removed]",
      "text/plain": [
       "<Figure size 1300x100 with 1 Axes>"
      ]
     },
     "metadata": {},
     "output_type": "display_data"
    }
   ],
   "source": [
    "# Вычисление количества дней с последней донации\n",
    "df['Дни с последней донации'] = (pd.to_datetime('today') - df['Дата донации']).dt.days\n",
    "\n",
    "# Построение графика распределения количества донаций\n",
    "plt.figure(figsize=(12, 6))\n",
    "\n",
    "sns.histplot(df['Дни с последней донации'].dropna(), kde=False, bins=15)\n",
    "plt.title('Распределение количества дней с последней донации')\n",
    "plt.xlabel('Дни с последней донации')\n",
    "plt.ylabel('Частота')\n",
    "\n",
    "plt.show()\n",
    "\n",
    "# Пример для количества подтвержденных донаций\n",
    "plt.figure(figsize=(13, 1))\n",
    "sns.boxplot(x=df['Дни с последней донации'])\n",
    "plt.title('Распределение количества дней с последней донации')\n",
    "plt.show()"
   ]
  },
  {
   "cell_type": "code",
   "execution_count": 21,
   "id": "1fa9af55",
   "metadata": {},
   "outputs": [
    {
     "name": "stdout",
     "output_type": "stream",
     "text": [
      "1975-01-01 00:00:00\n",
      "2024-08-25 00:00:00\n"
     ]
    }
   ],
   "source": [
    "print(df['Дата донации'].min())\n",
    "print(df['Дата донации'].max())"
   ]
  },
  {
   "cell_type": "markdown",
   "id": "59cfb3de",
   "metadata": {},
   "source": [
    "У большинства доноров, не более 13 лет с последней донации, учитывая, что мы располагаем данными с 1975 года."
   ]
  },
  {
   "cell_type": "markdown",
   "id": "f9d4fe3d",
   "metadata": {},
   "source": [
    "#### Изучить распределение готовности сдавать донорские материалы"
   ]
  },
  {
   "cell_type": "code",
   "execution_count": 22,
   "id": "0a731b84",
   "metadata": {
    "scrolled": false
   },
   "outputs": [
    {
     "data": {
      "image/png": "[encoded data removed]",
      "text/plain": [
       "<Figure size 600x400 with 1 Axes>"
      ]
     },
     "metadata": {},
     "output_type": "display_data"
    }
   ],
   "source": [
    "ready_to_donate_counts = df['Готов сдавать донорские материалы'].value_counts()\n",
    "\n",
    "# Круговая диаграмма\n",
    "plt.figure(figsize=(6, 4))\n",
    "plt.pie(ready_to_donate_counts, labels=ready_to_donate_counts.index, autopct='%1.1f%%', startangle=140)\n",
    "plt.title('Распределение готовности сдавать донорские материалы')\n",
    "plt.axis('equal')\n",
    "plt.show()"
   ]
  },
  {
   "cell_type": "markdown",
   "id": "980ee324",
   "metadata": {},
   "source": [
    "99.9% готовы сдавать донорские материалы, и только 0.1% не готов."
   ]
  },
  {
   "cell_type": "markdown",
   "id": "6e961eaf",
   "metadata": {},
   "source": [
    "#### Изучить распределение статусов донации"
   ]
  },
  {
   "cell_type": "code",
   "execution_count": 23,
   "id": "fa7e652b",
   "metadata": {},
   "outputs": [
    {
     "data": {
      "image/png": "[encoded data removed]",
      "text/plain": [
       "<Figure size 600x400 with 1 Axes>"
      ]
     },
     "metadata": {},
     "output_type": "display_data"
    }
   ],
   "source": [
    "status_donat = df['Статус донации'].value_counts()\n",
    "\n",
    "# Круговая диаграмма\n",
    "plt.figure(figsize=(6, 4))\n",
    "plt.pie(status_donat, labels=status_donat.index, autopct='%1.1f%%', startangle=140)\n",
    "plt.title('Распределение статусов донации')\n",
    "plt.axis('equal')\n",
    "plt.show()"
   ]
  },
  {
   "cell_type": "markdown",
   "id": "bb1b6c3d",
   "metadata": {},
   "source": [
    "У 93.2% доноров справка принята, и только 6.8% доноров без справки."
   ]
  },
  {
   "cell_type": "markdown",
   "id": "f9830139",
   "metadata": {},
   "source": [
    "#### Распределение дат донаций"
   ]
  },
  {
   "cell_type": "code",
   "execution_count": 24,
   "id": "43483ee8",
   "metadata": {},
   "outputs": [
    {
     "data": {
      "text/plain": [
       "537267"
      ]
     },
     "execution_count": 24,
     "metadata": {},
     "output_type": "execute_result"
    }
   ],
   "source": [
    "len(df['Дата донации'])"
   ]
  },
  {
   "cell_type": "code",
   "execution_count": 25,
   "id": "478068f9",
   "metadata": {},
   "outputs": [
    {
     "data": {
      "image/png": "[encoded data removed]",
      "text/plain": [
       "<Figure size 1200x600 with 1 Axes>"
      ]
     },
     "metadata": {},
     "output_type": "display_data"
    }
   ],
   "source": [
    "plt.figure(figsize=(12, 6))\n",
    "sns.histplot(df['Дата донации'].dropna(), bins=500)\n",
    "plt.title('Распределение всех дат донации')\n",
    "plt.xlabel('Дата донации')\n",
    "plt.ylabel('Частота')\n",
    "plt.grid(True)\n",
    "plt.xlim(0, current_date)\n",
    "plt.show()"
   ]
  },
  {
   "cell_type": "code",
   "execution_count": 26,
   "id": "f2bbdb35",
   "metadata": {},
   "outputs": [
    {
     "data": {
      "image/png": "[encoded data removed]",
      "text/plain": [
       "<Figure size 1200x600 with 1 Axes>"
      ]
     },
     "metadata": {},
     "output_type": "display_data"
    }
   ],
   "source": [
    "plt.figure(figsize=(12, 6))\n",
    "sns.histplot(df['Дата донации'].dropna(), bins=500)\n",
    "plt.title('Распределение дат донации начиная с 2008 года')\n",
    "plt.xlabel('Дата донации')\n",
    "plt.ylabel('Частота')\n",
    "plt.grid(True)\n",
    "plt.xlim(pd.Timestamp('2008-01-01'), pd.Timestamp('2024-09-10'))\n",
    "plt.show()"
   ]
  },
  {
   "cell_type": "markdown",
   "id": "696d97be",
   "metadata": {},
   "source": [
    "С 1975 до 2008 наблюдается незначительное количество донаций. И только с 2008 по 2024 пошёл их значительный рост."
   ]
  },
  {
   "cell_type": "markdown",
   "id": "715d4fa7",
   "metadata": {},
   "source": [
    "**Промежуточные выводы:**\n",
    "\n",
    " - Большинство доноров имеют до 30 подтвержденных донаций. Это распределение показывает, сколько подтвержденных донаций приходится на одного донора.\n",
    "\n",
    " - У большинства доноров, не более 13 лет с последней донации, учитывая, что мы располагаем данными с 1975 года.\n",
    "\n",
    " - 99.9% готовы сдавать донорские материалы, и только 0.1% не готов.\n",
    "\n",
    " - У 93.2% доноров справка принята, и только 6.8% доноров без справки.\n",
    "\n",
    " - С 1975 до 2008 наблюдается незначительное количество донаций. И только с 2008 по 2024 пошёл их значительный рост."
   ]
  },
  {
   "cell_type": "markdown",
   "id": "83df126f",
   "metadata": {},
   "source": [
    "### Шаг 4. Проверка гипотез"
   ]
  },
  {
   "cell_type": "markdown",
   "id": "442b808b",
   "metadata": {},
   "source": [
    "**Гипотеза 1: Связь между наличием бонусов и количеством пожертвований**\n",
    "\n",
    "- **Нулевая гипотеза (H₀)**: Среднее количество пожертвований не зависит от наличия бонусов.  \n",
    "- **Альтернативная гипотеза (H₁)**: Среднее количество пожертвований зависит от наличия бонусов.  \n",
    "- **Критический уровень значимости (α)**: 0.05.  \n",
    "- **Применяемый тест**: U-критерий Манна-Уитни."
   ]
  },
  {
   "cell_type": "code",
   "execution_count": 27,
   "id": "abed4b3f",
   "metadata": {},
   "outputs": [
    {
     "name": "stdout",
     "output_type": "stream",
     "text": [
      "U-критерий Манна-Уитни: статистика=43535689736.5, p-значение=0.0\n",
      "Отклоняем нулевую гипотезу: наличие бонусов влияет на количество пожертвований.\n"
     ]
    }
   ],
   "source": [
    "# Фильтрация данных для групп\n",
    "group_bonus = df.loc[df['Количество взятых бонусов'] > 0, 'Подтверждённых донаций']\n",
    "group_no_bonus = df.loc[df['Количество взятых бонусов'] == 0, 'Подтверждённых донаций']\n",
    "\n",
    "# Применение теста Манна-Уитни\n",
    "stat, p_value = mannwhitneyu(group_bonus, group_no_bonus, alternative='two-sided')\n",
    "\n",
    "print(f\"U-критерий Манна-Уитни: статистика={stat}, p-значение={p_value}\")\n",
    "\n",
    "# Интерпретация результата\n",
    "if p_value < 0.05:\n",
    "    print(\"Отклоняем нулевую гипотезу: наличие бонусов влияет на количество пожертвований.\")\n",
    "else:\n",
    "    print(\"Не удалось отклонить нулевую гипотезу: наличие бонусов не влияет на количество пожертвований.\")"
   ]
  },
  {
   "cell_type": "markdown",
   "id": "4f77c31a",
   "metadata": {},
   "source": [
    "**Гипотеза 2: Время последней активности и готовность сдавать донорские материалы**\n",
    "\n",
    "- **Нулевая гипотеза (H₀)**: Готовность сдавать донорские материалы не зависит от времени последней активности.  \n",
    "- **Альтернативная гипотеза (H₁)**: Готовность сдавать донорские материалы зависит от времени последней активности.  \n",
    "- **Критический уровень значимости (α)**: 0.05.  \n",
    "- **Применяемый тест**: χ²-тест на независимость."
   ]
  },
  {
   "cell_type": "code",
   "execution_count": 28,
   "id": "6dd1713c",
   "metadata": {},
   "outputs": [
    {
     "name": "stdout",
     "output_type": "stream",
     "text": [
      "χ²-тест: статистика=16.42450354972475, p-значение=0.00027130910591327345, степени свободы=2\n",
      "Отклоняем нулевую гипотезу: готовность сдавать донорские материалы зависит от времени последней активности.\n"
     ]
    }
   ],
   "source": [
    "# Категоризация времени последней активности\n",
    "bins = [0, 30, 180, 365, float('inf')]\n",
    "labels = ['< 1 месяц', '1-6 месяцев', '6-12 месяцев', '> 1 год']\n",
    "df['Категория активности'] = pd.cut(df['Дни с последней донации'], bins=bins, labels=labels, right=False)\n",
    "\n",
    "# Создание таблицы сопряженности\n",
    "contingency_table = pd.crosstab(df['Категория активности'], df['Готов сдавать донорские материалы'])\n",
    "\n",
    "# Применение χ²-теста\n",
    "chi2_stat, p_value, dof, expected = chi2_contingency(contingency_table)\n",
    "\n",
    "print(f\"χ²-тест: статистика={chi2_stat}, p-значение={p_value}, степени свободы={dof}\")\n",
    "\n",
    "# Интерпретация результата\n",
    "if p_value < 0.05:\n",
    "    print(\"Отклоняем нулевую гипотезу: готовность сдавать донорские материалы зависит от времени последней активности.\")\n",
    "else:\n",
    "    print(\"Не удалось отклонить нулевую гипотезу: готовность сдавать донорские материалы не зависит от времени последней активности.\")"
   ]
  },
  {
   "cell_type": "markdown",
   "id": "48f59901",
   "metadata": {},
   "source": [
    "**Промежуточные выводы:**\n",
    "\n",
    " - Среднее количество пожертвований зависит от наличия бонусов.\n",
    "\n",
    " - Готовность сдавать донорские материалы зависит от времени последней активности."
   ]
  },
  {
   "cell_type": "markdown",
   "id": "b52b3cb5",
   "metadata": {},
   "source": [
    "### Шаг 5. Определение четких правил, как отнести пользователя к тому или иному кластеру"
   ]
  },
  {
   "cell_type": "markdown",
   "id": "0edafd05",
   "metadata": {},
   "source": [
    "#### Написание правил"
   ]
  },
  {
   "cell_type": "markdown",
   "id": "4a3a1beb",
   "metadata": {},
   "source": [
    " - **Потерянный донор**: Если пользователь не готов сдавать донорские материалы, то он классифицируется как \"потерянный\".\n",
    "\n",
    " - **Реактивированный донор**: Если пользователь готов сдавать донорские материалы, имеет 2 или более подтверждённых донаций, разница между последними двумя донациями составляет более 24 месяцев, и количество дней с последней донации составляет не более 6 месяцев, то он классифицируется как \"реактивированный\".\n",
    "\n",
    " - **Активный донор**: Если пользователь готов сдавать донорские материалы, имеет 2 или более подтверждённых донаций, и количество дней с последней донации составляет не более 6 месяцев, то он классифицируется как \"активный\".\n",
    "\n",
    " - **Спящий донор**: Если пользователь готов сдавать донорские материалы, но имеет только одну или меньше подтверждённых донаций **или** количество дней с последней донации составляет более 6 месяцев, то он классифицируется как \"спящий\"."
   ]
  },
  {
   "cell_type": "markdown",
   "id": "df355d67",
   "metadata": {},
   "source": [
    "#### Гипотезы и предпосылки, которые привели к выделению кластеров"
   ]
  },
  {
   "cell_type": "markdown",
   "id": "c42e1039",
   "metadata": {},
   "source": [
    "Для выделения каждого из кластеров доноров были сформулированы гипотезы и предпосылки, основанные на логике поведения доноров и их активности. Ниже приведены гипотезы и причины, по которым доноры были отнесены в определённый кластер:\n",
    "\n",
    "**Потерянный донор**\n",
    "\n",
    " - **Гипотеза:** Доноры, которые не готовы больше сдавать донорские материалы, не проявляют интерес к донациям и, вероятно, прекратили свою донорскую деятельность навсегда.\n",
    " - **Предпосылка:** Если донор указал, что больше не готов сдавать донорские материалы, это означает, что он не планирует возвращаться к донациям в обозримом будущем, что делает его потерянным для организации. Независимо от количества предыдущих донаций, такие доноры не проявляют готовности к повторным донациям.\n",
    "\n",
    "**Реактивированный донор**\n",
    "\n",
    " - **Гипотеза:** Реактивированные доноры — это доноры, которые ранее проявляли активность, затем сделали длительный перерыв (более двух лет) и вновь вернулись к донорской деятельности.\n",
    " - **Предпосылка:** Доноры, которые после длительного перерыва (более 24 месяцев) вновь начали сдавать кровь и при этом готовы продолжать, могут считаться реактивированными. Эта группа доноров важна для организации, так как они уже имели опыт донаций и могут быть привлечены к регулярной сдаче крови. Условия для классификации включают наличие как минимум двух донаций и отсутствие перерыва более 6 месяцев с последней донации.\n",
    "\n",
    "**Активный донор**\n",
    "\n",
    " - **Гипотеза:** Активные доноры регулярно сдают донорские материалы и продолжают поддерживать свою готовность к донациям в ближайшем будущем.\n",
    " - **Предпосылка:** Доноры, которые готовы сдавать донорские материалы и уже имеют не менее двух донаций, при этом не делая перерыва более 6 месяцев с момента последней донации, считаются активными. Эта группа доноров — самая ценная для донорской организации, так как они постоянно участвуют в донациях и могут поддерживать запасы донорских материалов на должном уровне.\n",
    "\n",
    "**Спящий донор**\n",
    "\n",
    " - **Гипотеза:** Спящие доноры — это доноры, которые сдали кровь один раз или давно не принимали участия в донациях, но остаются потенциально активными и готовы возобновить донации в будущем.\n",
    " - **Предпосылка:** Если донор готов сдавать донорские материалы, но имеет только одну донацию или не сдавал кровь уже более 6 месяцев, он классифицируется как спящий. Эта группа доноров нуждается в дополнительной мотивации и может быть активирована с помощью специальных кампаний или напоминаний. Спящие доноры, по сути, находятся в «зоне риска» потерять интерес к донациям, поэтому важно с ними работать для их повторной активации.\n",
    "\n",
    "Эти гипотезы и предпосылки основаны на изучении данных, поведении доноров и их потенциальной активности в будущем, что позволяет оптимально распределить доноров по кластерам для дальнейшей работы с каждой группой."
   ]
  },
  {
   "cell_type": "markdown",
   "id": "8f42bf77",
   "metadata": {},
   "source": [
    "#### Создание функции, на основе этих правил"
   ]
  },
  {
   "cell_type": "code",
   "execution_count": 29,
   "id": "fed8c8f9",
   "metadata": {},
   "outputs": [
    {
     "name": "stdout",
     "output_type": "stream",
     "text": [
      "Кластер\n",
      "спящий              529340\n",
      "активный              7495\n",
      "потерянный             300\n",
      "реактивированный       132\n",
      "Name: count, dtype: int64\n",
      "Количество доноров, не попавших в кластеры: 0\n",
      "Примеры данных доноров, не попавших в кластеры:\n",
      "Empty DataFrame\n",
      "Columns: [ID донора, Подтверждённых донаций, Количество взятых бонусов, Дата донации, Статус донации, Готов сдавать донорские материалы, Дни с последней донации, Категория активности, Разница между донациями, Кластер]\n",
      "Index: []\n"
     ]
    }
   ],
   "source": [
    "# Сортировка данных по ID донора и Дате донации\n",
    "df = df.sort_values(by=['ID донора', 'Дата донации'])\n",
    "\n",
    "# Вычисление разницы в днях между донациями для каждого донора\n",
    "df['Разница между донациями'] = df.groupby('ID донора')['Дата донации'].diff().dt.days\n",
    "\n",
    "def classify_donor(row):\n",
    "    # Потерянный донор\n",
    "    if row['Готов сдавать донорские материалы'] == 'Нет':\n",
    "        return 'потерянный'\n",
    "    # Реактивированный донор\n",
    "    elif (\n",
    "        row['Готов сдавать донорские материалы'] == 'Да' \n",
    "        and row['Подтверждённых донаций'] >= 2 \n",
    "        and row['Разница между донациями'] > 24 * 30 \n",
    "        and row['Дни с последней донации'] <= 6 * 30\n",
    "    ):\n",
    "        return 'реактивированный'\n",
    "    # Активный донор\n",
    "    elif (\n",
    "        row['Готов сдавать донорские материалы'] == 'Да' \n",
    "        and row['Подтверждённых донаций'] >= 2 \n",
    "        and row['Дни с последней донации'] <= 6 * 30\n",
    "    ):\n",
    "        return 'активный'\n",
    "    # Спящий донор (нет донаций или только одна донация)\n",
    "    elif (\n",
    "        row['Готов сдавать донорские материалы'] == 'Да' \n",
    "        and (row['Подтверждённых донаций'] <= 1 or row['Дни с последней донации'] > 6 * 30)\n",
    "    ):\n",
    "        return 'спящий'\n",
    "    else:\n",
    "        return None\n",
    "\n",
    "# Применение функции кластеризации к датафрейму\n",
    "df['Кластер'] = df.apply(classify_donor, axis=1)\n",
    "\n",
    "# Проверка результата\n",
    "print(df['Кластер'].value_counts())\n",
    "\n",
    "# Вывод доноров, не попавших в кластеры\n",
    "not_classified = df[df['Кластер'].isna()]\n",
    "print(f\"Количество доноров, не попавших в кластеры: {not_classified.shape[0]}\")\n",
    "print(\"Примеры данных доноров, не попавших в кластеры:\")\n",
    "print(not_classified.head())"
   ]
  },
  {
   "cell_type": "markdown",
   "id": "02fe339c",
   "metadata": {},
   "source": [
    "По итогу была создана функция, которая разделила всех доноров на выбранные кластеры. Доноров, которые не попали в выбранные кластеры, не оказалось."
   ]
  },
  {
   "cell_type": "markdown",
   "id": "edf8ed63",
   "metadata": {},
   "source": [
    "### 6. Выводы по работе \n",
    "\n",
    "#### Шаг 1. Загрузка данных\n",
    "\n",
    "Были загружены 2 датасета, `users_anon_data` и `donations_anon`.\n",
    "\n",
    "#### Шаг 2. Предобработка данных\n",
    "\n",
    " - Объединил датафреймы для большего удобства.\n",
    " - Привёл тип данных в колонке `Дата донации` к формату datetime.\n",
    " - Сохранил размер исходного датафрема, чтобы в дальнейшем можно было посчитать, сколько данных осталось после предобработки.\n",
    " - Удалено 44636 явных дубликатов\n",
    " - Заменил даты в колонке `Дата донации` после текущей даты, на пропуски, т.к. позже этой даты события не могли произойти.\n",
    " - У некоторых доноров были указаны даты донации, но количество подтверждённых донаций было 0. Были посчитаны даты донаций и заменены нули на реальное количество донаций.\n",
    " - Было 22 строки, в которых дата донации не указана, но есть подтверждённые донации. Удалены пользователи с подтвержденными донациями и пропусками в дате донации.\n",
    " - Удалены записи со статусами `На модерации`, `На модерации после принятия`, `Удалена`, `Отклонена` в столбце `Статус донации`, т.к. по словам заказчика их не стоит рассматривать.\n",
    " - Объединены столбцы `Готов сдавать Цельную кровь`, `Готов сдавать Плазму`, `Готов сдавать Тромбоциты`, `Готов сдавать Эритроциты`, `Готов сдавать Лейкоциты`, `Готов сдавать Костный мозг` в виде одного столбца `Готов сдавать донорские материалы`, т.к. необходима общая информация, а не по каждому донорскому материалу в отдельности.\n",
    " - В датафрейме нет отрицательных значений.\n",
    " - Пропуски есть только в столбцах `Дата донации` и `Статус донации`. Удалять их нельзя, т.к. иначе мы потеряем значительную часть данных.\n",
    " - Процент оставшихся данных после предобработки: 90.97%\n",
    " \n",
    "#### Шаг 3. Исследовательский анализ данных (EDA)\n",
    "\n",
    " - Большинство доноров имеют до 30 подтвержденных донаций. Это распределение показывает, сколько подтвержденных донаций приходится на одного донора.\n",
    "\n",
    " - У большинства доноров, не более 13 лет с последней донации, учитывая, что мы располагаем данными с 1975 года.\n",
    "\n",
    " - 99.9% готовы сдавать донорские материалы, и только 0.1% не готов.\n",
    "\n",
    " - У 93.2% доноров справка принята, и только 6.8% доноров без справки.\n",
    "\n",
    " - С 1975 до 2008 наблюдается незначительное количество донаций. И только с 2008 по 2024 пошёл их значительный рост.\n",
    " \n",
    "#### Шаг 4. Проверка гипотез\n",
    "\n",
    " - Среднее количество пожертвований зависит от наличия бонусов.\n",
    "\n",
    " - Готовность сдавать донорские материалы зависит от времени последней активности.\n",
    " \n",
    "#### Шаг 5. Определение четких правил, как отнести пользователя к тому или иному кластеру\n",
    "\n",
    "Были описаны правила, как отнести пользователя к тому или иному кластеру, гипотезы и предпосылки, которые привели к выделению кластеров, и написана сама функция, которая распределяет доноров на выбранные кластеры.\n",
    "\n",
    "#### Рекомендации:\n",
    "\n",
    " - **Улучшение данных:** Провести дополнительную проверку данных на наличие аномалий, особенно в датах донаций и статусах доноров.\n",
    " - **Мониторинг активности:** Вести регулярный анализ активных и реактивированных доноров для увеличения вовлеченности.\n",
    " - **Работа с потерянными донорами:** Разработать кампании по возвращению доноров, которые не готовы сдавать материалы или давно не делали донаций.\n",
    "\n",
    "#### Итоговый вывод:\n",
    "\n",
    "Проект успешно классифицировал доноров на активных, спящих, реактивированных и потерянных на основе четких правил. Основные кластеры позволяют лучше понимать поведение доноров и планировать стратегии взаимодействия."
   ]
  }
 ],
 "metadata": {
  "kernelspec": {
   "display_name": "Python 3 (ipykernel)",
   "language": "python",
   "name": "python3"
  },
  "language_info": {
   "codemirror_mode": {
    "name": "ipython",
    "version": 3
   },
   "file_extension": ".py",
   "mimetype": "text/x-python",
   "name": "python",
   "nbconvert_exporter": "python",
   "pygments_lexer": "ipython3",
   "version": "3.11.9"
  }
 },
 "nbformat": 4,
 "nbformat_minor": 5
}
